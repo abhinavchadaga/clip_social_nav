{
 "cells": [
  {
   "cell_type": "markdown",
   "metadata": {},
   "source": [
    "## Read data from pkl file"
   ]
  },
  {
   "cell_type": "code",
   "execution_count": 11,
   "metadata": {},
   "outputs": [],
   "source": [
    "import pickle\n",
    "import os\n",
    "\n",
    "data = pickle.load(open('./data/test_final.pkl', 'rb'))\n",
    "path_to_bev_lidar = './data/test_final'"
   ]
  },
  {
   "cell_type": "markdown",
   "metadata": {},
   "source": [
    "## Select a random time index from pkl file"
   ]
  },
  {
   "cell_type": "code",
   "execution_count": 12,
   "metadata": {},
   "outputs": [
    {
     "name": "stdout",
     "output_type": "stream",
     "text": [
      "indices 0 to 1307\n",
      "selected time_index:  742\n"
     ]
    }
   ],
   "source": [
    "import random\n",
    "\n",
    "r_idx = random.randint(0, len(os.listdir(path_to_bev_lidar)))\n",
    "print(f'indices 0 to {len(os.listdir(path_to_bev_lidar)) - 1}')\n",
    "print('selected time_index: ', r_idx)"
   ]
  },
  {
   "cell_type": "code",
   "execution_count": 13,
   "metadata": {},
   "outputs": [],
   "source": [
    "future_joystick = data['future_joystick']\n",
    "odom = data['odom']"
   ]
  },
  {
   "cell_type": "markdown",
   "metadata": {},
   "source": [
    "## Get one sample of data"
   ]
  },
  {
   "cell_type": "code",
   "execution_count": 14,
   "metadata": {},
   "outputs": [],
   "source": [
    "from PIL import Image\n",
    "import numpy as np\n",
    "\n",
    "joystick_sample = future_joystick[r_idx]\n",
    "lidar_sample = np.asarray(Image.open(os.path.join(path_to_bev_lidar, f'{r_idx}.png')))\n",
    "data_sample = (joystick_sample, lidar_sample)"
   ]
  },
  {
   "cell_type": "markdown",
   "metadata": {},
   "source": [
    "### Joystick Sample"
   ]
  },
  {
   "cell_type": "code",
   "execution_count": 15,
   "metadata": {},
   "outputs": [
    {
     "name": "stdout",
     "output_type": "stream",
     "text": [
      "time_index 742\n"
     ]
    },
    {
     "data": {
      "text/html": [
       "<div>\n",
       "<style scoped>\n",
       "    .dataframe tbody tr th:only-of-type {\n",
       "        vertical-align: middle;\n",
       "    }\n",
       "\n",
       "    .dataframe tbody tr th {\n",
       "        vertical-align: top;\n",
       "    }\n",
       "\n",
       "    .dataframe thead th {\n",
       "        text-align: right;\n",
       "    }\n",
       "</style>\n",
       "<table border=\"1\" class=\"dataframe\">\n",
       "  <thead>\n",
       "    <tr style=\"text-align: right;\">\n",
       "      <th></th>\n",
       "      <th>linear_x</th>\n",
       "      <th>linear_y</th>\n",
       "      <th>angular_z</th>\n",
       "    </tr>\n",
       "  </thead>\n",
       "  <tbody>\n",
       "    <tr>\n",
       "      <th>0</th>\n",
       "      <td>1.6</td>\n",
       "      <td>-0.109302</td>\n",
       "      <td>-0.000000</td>\n",
       "    </tr>\n",
       "    <tr>\n",
       "      <th>1</th>\n",
       "      <td>1.6</td>\n",
       "      <td>-0.109302</td>\n",
       "      <td>-0.000000</td>\n",
       "    </tr>\n",
       "    <tr>\n",
       "      <th>2</th>\n",
       "      <td>1.6</td>\n",
       "      <td>-0.109302</td>\n",
       "      <td>-0.000000</td>\n",
       "    </tr>\n",
       "    <tr>\n",
       "      <th>3</th>\n",
       "      <td>1.6</td>\n",
       "      <td>-0.109302</td>\n",
       "      <td>-0.000000</td>\n",
       "    </tr>\n",
       "    <tr>\n",
       "      <th>4</th>\n",
       "      <td>1.6</td>\n",
       "      <td>-0.109302</td>\n",
       "      <td>-0.000000</td>\n",
       "    </tr>\n",
       "    <tr>\n",
       "      <th>...</th>\n",
       "      <td>...</td>\n",
       "      <td>...</td>\n",
       "      <td>...</td>\n",
       "    </tr>\n",
       "    <tr>\n",
       "      <th>295</th>\n",
       "      <td>1.6</td>\n",
       "      <td>0.000000</td>\n",
       "      <td>0.024928</td>\n",
       "    </tr>\n",
       "    <tr>\n",
       "      <th>296</th>\n",
       "      <td>1.6</td>\n",
       "      <td>0.000000</td>\n",
       "      <td>0.024928</td>\n",
       "    </tr>\n",
       "    <tr>\n",
       "      <th>297</th>\n",
       "      <td>1.6</td>\n",
       "      <td>0.000000</td>\n",
       "      <td>0.062176</td>\n",
       "    </tr>\n",
       "    <tr>\n",
       "      <th>298</th>\n",
       "      <td>1.6</td>\n",
       "      <td>0.000000</td>\n",
       "      <td>0.124256</td>\n",
       "    </tr>\n",
       "    <tr>\n",
       "      <th>299</th>\n",
       "      <td>1.6</td>\n",
       "      <td>0.000000</td>\n",
       "      <td>0.149088</td>\n",
       "    </tr>\n",
       "  </tbody>\n",
       "</table>\n",
       "<p>300 rows × 3 columns</p>\n",
       "</div>"
      ],
      "text/plain": [
       "     linear_x  linear_y  angular_z\n",
       "0         1.6 -0.109302  -0.000000\n",
       "1         1.6 -0.109302  -0.000000\n",
       "2         1.6 -0.109302  -0.000000\n",
       "3         1.6 -0.109302  -0.000000\n",
       "4         1.6 -0.109302  -0.000000\n",
       "..        ...       ...        ...\n",
       "295       1.6  0.000000   0.024928\n",
       "296       1.6  0.000000   0.024928\n",
       "297       1.6  0.000000   0.062176\n",
       "298       1.6  0.000000   0.124256\n",
       "299       1.6  0.000000   0.149088\n",
       "\n",
       "[300 rows x 3 columns]"
      ]
     },
     "execution_count": 15,
     "metadata": {},
     "output_type": "execute_result"
    }
   ],
   "source": [
    "import pandas as pd\n",
    "\n",
    "joystick_sample_df = pd.DataFrame(data=joystick_sample, columns=['linear_x', 'linear_y', 'angular_z'])\n",
    "print('time_index', r_idx)\n",
    "joystick_sample_df"
   ]
  },
  {
   "cell_type": "markdown",
   "metadata": {},
   "source": [
    "### BEV Lidar Image Stack Sample"
   ]
  },
  {
   "cell_type": "code",
   "execution_count": 16,
   "metadata": {},
   "outputs": [
    {
     "name": "stdout",
     "output_type": "stream",
     "text": [
      "20\n"
     ]
    },
    {
     "data": {
      "text/plain": [
       "(5, 401, 401)"
      ]
     },
     "execution_count": 16,
     "metadata": {},
     "output_type": "execute_result"
    }
   ],
   "source": [
    "from bev_lidar_stack_helper import get_bev_lidar_img_stack\n",
    "\n",
    "bev_lidar_img_stack, img_file_names = get_bev_lidar_img_stack(odom=odom, path_to_bev_lidar=path_to_bev_lidar, t_idx=r_idx, verbose=True)\n",
    "bev_lidar_img_stack.shape"
   ]
  },
  {
   "cell_type": "code",
   "execution_count": 21,
   "metadata": {},
   "outputs": [
    {
     "name": "stdout",
     "output_type": "stream",
     "text": [
      "time_index:  742\n"
     ]
    },
    {
     "data": {
      "image/png": "[encoded data removed]",
      "text/plain": [
       "<Figure size 1080x504 with 5 Axes>"
      ]
     },
     "metadata": {
      "needs_background": "light"
     },
     "output_type": "display_data"
    }
   ],
   "source": [
    "import matplotlib.pyplot as plt\n",
    "%matplotlib inline\n",
    "\n",
    "fig = plt.figure(figsize=(15, 7), num=r_idx)\n",
    "rows = 1\n",
    "columns = 5\n",
    "\n",
    "print('time_index: ', r_idx)\n",
    "\n",
    "fig.add_subplot(rows, columns, 1)\n",
    "plt.imshow(bev_lidar_img_stack[0], cmap='gray')\n",
    "plt.axis('off')\n",
    "plt.title(img_file_names[0])\n",
    "\n",
    "fig.add_subplot(rows, columns, 2)\n",
    "plt.imshow(bev_lidar_img_stack[1], cmap='gray')\n",
    "plt.axis('off')\n",
    "plt.title(img_file_names[1])\n",
    "\n",
    "fig.add_subplot(rows, columns, 3)\n",
    "plt.imshow(bev_lidar_img_stack[2], cmap='gray')\n",
    "plt.axis('off')\n",
    "plt.title(img_file_names[2])\n",
    "\n",
    "fig.add_subplot(rows, columns, 4)\n",
    "plt.imshow(bev_lidar_img_stack[3], cmap='gray')\n",
    "plt.axis('off')\n",
    "plt.title(img_file_names[3])\n",
    "\n",
    "fig.add_subplot(rows, columns, 5)\n",
    "plt.imshow(bev_lidar_img_stack[4], cmap='gray')\n",
    "plt.axis('off')\n",
    "plt.title(img_file_names[4]);\n"
   ]
  },
  {
   "cell_type": "code",
   "execution_count": null,
   "metadata": {},
   "outputs": [],
   "source": []
  }
 ],
 "metadata": {
  "kernelspec": {
   "display_name": "Python 3.9.12 ('clip_social_nav')",
   "language": "python",
   "name": "python3"
  },
  "language_info": {
   "codemirror_mode": {
    "name": "ipython",
    "version": 3
   },
   "file_extension": ".py",
   "mimetype": "text/x-python",
   "name": "python",
   "nbconvert_exporter": "python",
   "pygments_lexer": "ipython3",
   "version": "3.9.13"
  },
  "orig_nbformat": 4,
  "vscode": {
   "interpreter": {
    "hash": "e2c86d3f01e403b9f22e01d3bbb387c16c7a05213d5936f651663b01b59ce1d3"
   }
  }
 },
 "nbformat": 4,
 "nbformat_minor": 2
}
