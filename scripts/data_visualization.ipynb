{
 "cells": [
  {
   "cell_type": "markdown",
   "metadata": {},
   "source": [
    "# Data Visualization\n",
    "Visualize the lidar, joystick, and 10m goal data"
   ]
  },
  {
   "cell_type": "code",
   "execution_count": 1,
   "metadata": {},
   "outputs": [],
   "source": [
    "from dataset import CLIPDataModule, CLIPSet\n",
    "from termcolor import cprint\n",
    "import pandas as pd\n",
    "import matplotlib.pyplot as plt\n",
    "import pickle\n",
    "import utils\n",
    "import cv2\n",
    "%matplotlib inline"
   ]
  },
  {
   "cell_type": "markdown",
   "metadata": {},
   "source": [
    "## Create CLIPDataModule"
   ]
  },
  {
   "cell_type": "code",
   "execution_count": null,
   "metadata": {},
   "outputs": [],
   "source": [
    "dm = CLIPDataModule(data_path='../data/',\n",
    "                    batch_size=32,\n",
    "                    num_workers=4,\n",
    "                    joy_len=300,\n",
    "                    include_lidar_file_names=True,\n",
    "                    verbose=True)\n",
    "\n",
    "dm.setup()"
   ]
  },
  {
   "cell_type": "code",
   "execution_count": null,
   "metadata": {},
   "outputs": [],
   "source": [
    "cprint(f\"number of samples: {len(dm.training_set) + len(dm.validation_set)}\",\n",
    "       'green',\n",
    "       attrs=['bold'])\n"
   ]
  },
  {
   "cell_type": "markdown",
   "metadata": {},
   "source": [
    "## Test Training DataLoader\n",
    "Check if all batches can be retrieved successfully\n",
    "\n",
    "### Shape Information:\n",
    "```lidar_stack.shape``` = (batch size, channels, img height, img width) \\\n",
    "```joystick.shape``` = (batch size, joy_len, 3) \\\n",
    "```goal.shape``` = (batch size, 2)\n"
   ]
  },
  {
   "cell_type": "code",
   "execution_count": null,
   "metadata": {},
   "outputs": [],
   "source": [
    "# turn train_dataloader into iterable\n",
    "trainloader = dm.train_dataloader()\n",
    "train_iter = iter(trainloader)\n",
    "print(f'number of batches: {len(trainloader)}')"
   ]
  },
  {
   "cell_type": "code",
   "execution_count": null,
   "metadata": {},
   "outputs": [],
   "source": [
    "%%time\n",
    "for i, batch in enumerate(trainloader):\n",
    "    lidar, joystick, goal = batch\n",
    "    lidar_stack = lidar[0]\n",
    "    lidar_fnames = lidar[1]\n",
    "    if i == 1:\n",
    "        print('lidar img batch shape: ', lidar_stack.shape)\n",
    "        print('lidar file names batch shape: ', lidar_fnames.shape)\n",
    "        print('joystick batch shape: ', joystick.shape)\n",
    "        print('goal batch shape: ', goal.shape)\n",
    "\n",
    "cprint(f'successfully retrieved all batches !!!', color='green', attrs=['bold'])"
   ]
  },
  {
   "cell_type": "markdown",
   "metadata": {},
   "source": [
    "## Select Random Sample from Training Data"
   ]
  },
  {
   "cell_type": "code",
   "execution_count": 9,
   "metadata": {},
   "outputs": [],
   "source": [
    "import random\n",
    "\n",
    "\n",
    "# idx = 10\n",
    "\n",
    "# create CLIPset from larger pkl file\n",
    "train_set = CLIPSet(pickle_file_path='../data/2021-11-15-15-06-15_final.pkl', include_lidar_file_names=True)\n",
    "\n",
    "# select random index\n",
    "idx = random.randint(0, len(train_set))\n",
    "\n",
    "# get random sample\n",
    "sample = train_set[idx]"
   ]
  },
  {
   "cell_type": "markdown",
   "metadata": {},
   "source": [
    "## Visualize Lidar Stack "
   ]
  },
  {
   "cell_type": "code",
   "execution_count": 10,
   "metadata": {},
   "outputs": [
    {
     "name": "stdout",
     "output_type": "stream",
     "text": [
      "\u001b[1m\u001b[32mindex: 493, total offset: 50\u001b[0m\n"
     ]
    },
    {
     "data": {
      "image/png": "[encoded data removed]",
      "text/plain": [
       "<Figure size 1800x1800 with 5 Axes>"
      ]
     },
     "metadata": {
      "needs_background": "light"
     },
     "output_type": "display_data"
    }
   ],
   "source": [
    "# visualize mode returns lidar stack\n",
    "# and the corresponding file names\n",
    "lidar_stack = sample[0][0]\n",
    "lidar_fnames = sample[0][1]\n",
    "\n",
    "cprint(f'index: {idx}, total offset: 50', color='green', attrs=['bold'])\n",
    "utils.visualize_lidar_stack(lidar_stack=lidar_stack, file_names=lidar_fnames)"
   ]
  },
  {
   "cell_type": "markdown",
   "metadata": {},
   "source": [
    "## Visualize Joystick Data\n",
    "\n",
    "In table format"
   ]
  },
  {
   "cell_type": "code",
   "execution_count": 11,
   "metadata": {},
   "outputs": [
    {
     "name": "stdout",
     "output_type": "stream",
     "text": [
      "joystick dtype:  float32\n",
      "joystick shape:  (300, 3)\n"
     ]
    },
    {
     "data": {
      "text/html": [
       "<div>\n",
       "<style scoped>\n",
       "    .dataframe tbody tr th:only-of-type {\n",
       "        vertical-align: middle;\n",
       "    }\n",
       "\n",
       "    .dataframe tbody tr th {\n",
       "        vertical-align: top;\n",
       "    }\n",
       "\n",
       "    .dataframe thead th {\n",
       "        text-align: right;\n",
       "    }\n",
       "</style>\n",
       "<table border=\"1\" class=\"dataframe\">\n",
       "  <thead>\n",
       "    <tr style=\"text-align: right;\">\n",
       "      <th></th>\n",
       "      <th>linear_x</th>\n",
       "      <th>linear_y</th>\n",
       "      <th>angular_z</th>\n",
       "    </tr>\n",
       "  </thead>\n",
       "  <tbody>\n",
       "    <tr>\n",
       "      <th>0</th>\n",
       "      <td>1.6</td>\n",
       "      <td>0.0</td>\n",
       "      <td>-0.0</td>\n",
       "    </tr>\n",
       "    <tr>\n",
       "      <th>1</th>\n",
       "      <td>1.6</td>\n",
       "      <td>0.0</td>\n",
       "      <td>-0.0</td>\n",
       "    </tr>\n",
       "    <tr>\n",
       "      <th>2</th>\n",
       "      <td>1.6</td>\n",
       "      <td>0.0</td>\n",
       "      <td>-0.0</td>\n",
       "    </tr>\n",
       "    <tr>\n",
       "      <th>3</th>\n",
       "      <td>1.6</td>\n",
       "      <td>0.0</td>\n",
       "      <td>-0.0</td>\n",
       "    </tr>\n",
       "    <tr>\n",
       "      <th>4</th>\n",
       "      <td>1.6</td>\n",
       "      <td>0.0</td>\n",
       "      <td>-0.0</td>\n",
       "    </tr>\n",
       "    <tr>\n",
       "      <th>...</th>\n",
       "      <td>...</td>\n",
       "      <td>...</td>\n",
       "      <td>...</td>\n",
       "    </tr>\n",
       "    <tr>\n",
       "      <th>295</th>\n",
       "      <td>1.6</td>\n",
       "      <td>0.0</td>\n",
       "      <td>-0.0</td>\n",
       "    </tr>\n",
       "    <tr>\n",
       "      <th>296</th>\n",
       "      <td>1.6</td>\n",
       "      <td>0.0</td>\n",
       "      <td>-0.0</td>\n",
       "    </tr>\n",
       "    <tr>\n",
       "      <th>297</th>\n",
       "      <td>1.6</td>\n",
       "      <td>0.0</td>\n",
       "      <td>-0.0</td>\n",
       "    </tr>\n",
       "    <tr>\n",
       "      <th>298</th>\n",
       "      <td>1.6</td>\n",
       "      <td>0.0</td>\n",
       "      <td>-0.0</td>\n",
       "    </tr>\n",
       "    <tr>\n",
       "      <th>299</th>\n",
       "      <td>1.6</td>\n",
       "      <td>0.0</td>\n",
       "      <td>-0.0</td>\n",
       "    </tr>\n",
       "  </tbody>\n",
       "</table>\n",
       "<p>300 rows × 3 columns</p>\n",
       "</div>"
      ],
      "text/plain": [
       "     linear_x  linear_y  angular_z\n",
       "0         1.6       0.0       -0.0\n",
       "1         1.6       0.0       -0.0\n",
       "2         1.6       0.0       -0.0\n",
       "3         1.6       0.0       -0.0\n",
       "4         1.6       0.0       -0.0\n",
       "..        ...       ...        ...\n",
       "295       1.6       0.0       -0.0\n",
       "296       1.6       0.0       -0.0\n",
       "297       1.6       0.0       -0.0\n",
       "298       1.6       0.0       -0.0\n",
       "299       1.6       0.0       -0.0\n",
       "\n",
       "[300 rows x 3 columns]"
      ]
     },
     "execution_count": 11,
     "metadata": {},
     "output_type": "execute_result"
    }
   ],
   "source": [
    "joystick = sample[1]\n",
    "print('joystick dtype: ', joystick.dtype)\n",
    "print('joystick shape: ', joystick.shape)\n",
    "\n",
    "joy_df = pd.DataFrame(data=joystick,\n",
    "                      columns=['linear_x', 'linear_y', 'angular_z'])\n",
    "joy_df"
   ]
  },
  {
   "cell_type": "markdown",
   "metadata": {},
   "source": [
    "## Goal Information\n",
    "(x, y) location relative to the current position of the robot"
   ]
  },
  {
   "cell_type": "code",
   "execution_count": 12,
   "metadata": {},
   "outputs": [
    {
     "name": "stdout",
     "output_type": "stream",
     "text": [
      "x: 10.00, y: 0.01\n"
     ]
    }
   ],
   "source": [
    "goal = sample[2]\n",
    "print(f'x: {goal[0]:.2f}, y: {goal[1]:.2f}')"
   ]
  },
  {
   "cell_type": "code",
   "execution_count": 13,
   "metadata": {},
   "outputs": [
    {
     "name": "stderr",
     "output_type": "stream",
     "text": [
      "Clipping input data to the valid range for imshow with RGB data ([0..1] for floats or [0..255] for integers).\n"
     ]
    },
    {
     "data": {
      "image/png": "[encoded data removed]",
      "text/plain": [
       "<Figure size 720x720 with 1 Axes>"
      ]
     },
     "metadata": {
      "needs_background": "light"
     },
     "output_type": "display_data"
    }
   ],
   "source": [
    "import numpy as np\n",
    "\n",
    "data = pickle.load(open('../data/2021-11-15-15-06-15_final.pkl', 'rb'), encoding='latin1')\n",
    "lidar_frame_w_goal = utils.visualize_goal(lidar_frame=lidar_stack[-1], goal=goal)\n",
    "plt.figure(figsize=(10, 10))\n",
    "plt.imshow(lidar_frame_w_goal);"
   ]
  }
 ],
 "metadata": {
  "kernelspec": {
   "display_name": "Python 3 (ipykernel)",
   "language": "python",
   "name": "python3"
  },
  "language_info": {
   "codemirror_mode": {
    "name": "ipython",
    "version": 3
   },
   "file_extension": ".py",
   "mimetype": "text/x-python",
   "name": "python",
   "nbconvert_exporter": "python",
   "pygments_lexer": "ipython3",
   "version": "3.8.10"
  },
  "vscode": {
   "interpreter": {
    "hash": "55b2c407edfc4dd78ab1dea77a3a47516b8202be25920d05030a66eb501c0c7a"
   }
  }
 },
 "nbformat": 4,
 "nbformat_minor": 2
}
