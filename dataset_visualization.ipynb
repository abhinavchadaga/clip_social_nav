{
 "cells": [
  {
   "cell_type": "markdown",
   "id": "238d8c06",
   "metadata": {},
   "source": [
    "# Dataset Visualizer"
   ]
  },
  {
   "cell_type": "code",
   "execution_count": 11,
   "id": "18161707",
   "metadata": {},
   "outputs": [],
   "source": [
    "from dataset_loader import CLIPSet\n",
    "from termcolor import cprint\n",
    "import numpy as np\n",
    "import pandas as pd\n",
    "import random\n",
    "import matplotlib.pyplot as plt\n",
    "%matplotlib inline\n"
   ]
  },
  {
   "cell_type": "code",
   "execution_count": 12,
   "id": "1e0fedc0",
   "metadata": {},
   "outputs": [
    {
     "name": "stdout",
     "output_type": "stream",
     "text": [
      "Pickle file exists. Loading from pickle file\u001b[0m\n",
      "\u001b[1m\u001b[33mDelay frame is : 30\u001b[0m\n"
     ]
    }
   ],
   "source": [
    "data_path = \"./data/train_final.pkl\"\n",
    "\n",
    "dataset = CLIPSet(pickle_file_path=data_path, visualize=True)"
   ]
  },
  {
   "cell_type": "code",
   "execution_count": 13,
   "id": "d7b614b2",
   "metadata": {},
   "outputs": [
    {
     "name": "stdout",
     "output_type": "stream",
     "text": [
      "length of dataset:  3441\n"
     ]
    }
   ],
   "source": [
    "print('length of dataset: ', len(dataset))"
   ]
  },
  {
   "cell_type": "code",
   "execution_count": 14,
   "id": "763aee13",
   "metadata": {},
   "outputs": [
    {
     "name": "stdout",
     "output_type": "stream",
     "text": [
      "\u001b[32mindex: 0\u001b[0m\n"
     ]
    }
   ],
   "source": [
    "# index = random.randint(0, len(dataset) - dataset.delay - 1)\n",
    "index = 0\n",
    "cprint(f'index: {index}', color='green')"
   ]
  },
  {
   "cell_type": "code",
   "execution_count": 15,
   "id": "10b5135a",
   "metadata": {},
   "outputs": [],
   "source": [
    "lidar, joy = dataset[index]"
   ]
  },
  {
   "cell_type": "code",
   "execution_count": 16,
   "id": "29b65970",
   "metadata": {},
   "outputs": [
    {
     "data": {
      "text/html": [
       "<div>\n",
       "<style scoped>\n",
       "    .dataframe tbody tr th:only-of-type {\n",
       "        vertical-align: middle;\n",
       "    }\n",
       "\n",
       "    .dataframe tbody tr th {\n",
       "        vertical-align: top;\n",
       "    }\n",
       "\n",
       "    .dataframe thead th {\n",
       "        text-align: right;\n",
       "    }\n",
       "</style>\n",
       "<table border=\"1\" class=\"dataframe\">\n",
       "  <thead>\n",
       "    <tr style=\"text-align: right;\">\n",
       "      <th></th>\n",
       "      <th>linear_x</th>\n",
       "      <th>linear_y</th>\n",
       "      <th>angular_z</th>\n",
       "    </tr>\n",
       "  </thead>\n",
       "  <tbody>\n",
       "    <tr>\n",
       "      <th>0</th>\n",
       "      <td>1.6</td>\n",
       "      <td>0.0</td>\n",
       "      <td>-0.509057</td>\n",
       "    </tr>\n",
       "    <tr>\n",
       "      <th>1</th>\n",
       "      <td>1.6</td>\n",
       "      <td>0.0</td>\n",
       "      <td>-0.509057</td>\n",
       "    </tr>\n",
       "    <tr>\n",
       "      <th>2</th>\n",
       "      <td>1.6</td>\n",
       "      <td>0.0</td>\n",
       "      <td>-0.509057</td>\n",
       "    </tr>\n",
       "    <tr>\n",
       "      <th>3</th>\n",
       "      <td>1.6</td>\n",
       "      <td>0.0</td>\n",
       "      <td>-0.509057</td>\n",
       "    </tr>\n",
       "    <tr>\n",
       "      <th>4</th>\n",
       "      <td>1.6</td>\n",
       "      <td>0.0</td>\n",
       "      <td>-0.509057</td>\n",
       "    </tr>\n",
       "    <tr>\n",
       "      <th>...</th>\n",
       "      <td>...</td>\n",
       "      <td>...</td>\n",
       "      <td>...</td>\n",
       "    </tr>\n",
       "    <tr>\n",
       "      <th>295</th>\n",
       "      <td>1.6</td>\n",
       "      <td>0.0</td>\n",
       "      <td>0.285665</td>\n",
       "    </tr>\n",
       "    <tr>\n",
       "      <th>296</th>\n",
       "      <td>1.6</td>\n",
       "      <td>0.0</td>\n",
       "      <td>0.285665</td>\n",
       "    </tr>\n",
       "    <tr>\n",
       "      <th>297</th>\n",
       "      <td>1.6</td>\n",
       "      <td>0.0</td>\n",
       "      <td>0.285665</td>\n",
       "    </tr>\n",
       "    <tr>\n",
       "      <th>298</th>\n",
       "      <td>1.6</td>\n",
       "      <td>0.0</td>\n",
       "      <td>0.285665</td>\n",
       "    </tr>\n",
       "    <tr>\n",
       "      <th>299</th>\n",
       "      <td>1.6</td>\n",
       "      <td>0.0</td>\n",
       "      <td>0.285665</td>\n",
       "    </tr>\n",
       "  </tbody>\n",
       "</table>\n",
       "<p>300 rows × 3 columns</p>\n",
       "</div>"
      ],
      "text/plain": [
       "     linear_x  linear_y  angular_z\n",
       "0         1.6       0.0  -0.509057\n",
       "1         1.6       0.0  -0.509057\n",
       "2         1.6       0.0  -0.509057\n",
       "3         1.6       0.0  -0.509057\n",
       "4         1.6       0.0  -0.509057\n",
       "..        ...       ...        ...\n",
       "295       1.6       0.0   0.285665\n",
       "296       1.6       0.0   0.285665\n",
       "297       1.6       0.0   0.285665\n",
       "298       1.6       0.0   0.285665\n",
       "299       1.6       0.0   0.285665\n",
       "\n",
       "[300 rows x 3 columns]"
      ]
     },
     "execution_count": 16,
     "metadata": {},
     "output_type": "execute_result"
    }
   ],
   "source": [
    "joy_df = pd.DataFrame(data=joy, columns=[\n",
    "                                      'linear_x', 'linear_y', 'angular_z'])\n",
    "joy_df"
   ]
  },
  {
   "cell_type": "code",
   "execution_count": 17,
   "id": "b8df88bf",
   "metadata": {},
   "outputs": [],
   "source": [
    "linear_x_max = joy_df['linear_x'].max()\n",
    "linear_x_min = joy_df['linear_y'].min()\n",
    "linear_x_avg = joy_df['linear_x'].mean()\n",
    "\n",
    "linear_y_max = joy_df['linear_y'].max()\n",
    "linear_y_min = joy_df['linear_y'].min()\n",
    "linear_y_avg = joy_df['linear_y'].mean()\n",
    "\n",
    "angular_z_max = joy_df['angular_z'].max()\n",
    "angular_z_min = joy_df['angular_z'].min()\n",
    "angular_z_avg = joy_df['angular_z'].mean()"
   ]
  },
  {
   "cell_type": "code",
   "execution_count": 18,
   "id": "26e2de15",
   "metadata": {},
   "outputs": [
    {
     "data": {
      "text/html": [
       "<div>\n",
       "<style scoped>\n",
       "    .dataframe tbody tr th:only-of-type {\n",
       "        vertical-align: middle;\n",
       "    }\n",
       "\n",
       "    .dataframe tbody tr th {\n",
       "        vertical-align: top;\n",
       "    }\n",
       "\n",
       "    .dataframe thead th {\n",
       "        text-align: right;\n",
       "    }\n",
       "</style>\n",
       "<table border=\"1\" class=\"dataframe\">\n",
       "  <thead>\n",
       "    <tr style=\"text-align: right;\">\n",
       "      <th></th>\n",
       "      <th>linear_x</th>\n",
       "      <th>linear_y</th>\n",
       "      <th>angular_z</th>\n",
       "    </tr>\n",
       "  </thead>\n",
       "  <tbody>\n",
       "    <tr>\n",
       "      <th>max</th>\n",
       "      <td>1.6</td>\n",
       "      <td>0.0</td>\n",
       "      <td>0.285665</td>\n",
       "    </tr>\n",
       "    <tr>\n",
       "      <th>min</th>\n",
       "      <td>0.0</td>\n",
       "      <td>0.0</td>\n",
       "      <td>-0.521474</td>\n",
       "    </tr>\n",
       "    <tr>\n",
       "      <th>avg</th>\n",
       "      <td>1.6</td>\n",
       "      <td>0.0</td>\n",
       "      <td>-0.133215</td>\n",
       "    </tr>\n",
       "  </tbody>\n",
       "</table>\n",
       "</div>"
      ],
      "text/plain": [
       "     linear_x  linear_y  angular_z\n",
       "max       1.6       0.0   0.285665\n",
       "min       0.0       0.0  -0.521474\n",
       "avg       1.6       0.0  -0.133215"
      ]
     },
     "execution_count": 18,
     "metadata": {},
     "output_type": "execute_result"
    }
   ],
   "source": [
    "joy_stats = {\"linear_x\": [linear_x_max, linear_x_min, linear_x_avg], \"linear_y\": [\n",
    "    linear_y_max, linear_y_min, linear_y_avg], \"angular_z\": [angular_z_max, angular_z_min, angular_z_avg]}\n",
    "\n",
    "joy_stats_df = pd.DataFrame(data=joy_stats, columns=[\n",
    "                            'linear_x', 'linear_y', 'angular_z'], index=['max', 'min', 'avg'])\n",
    "\n",
    "joy_stats_df\n"
   ]
  },
  {
   "cell_type": "code",
   "execution_count": 19,
   "id": "9062a0db",
   "metadata": {},
   "outputs": [
    {
     "name": "stdout",
     "output_type": "stream",
     "text": [
      "<class 'tuple'>\n"
     ]
    }
   ],
   "source": [
    "print(type(lidar))"
   ]
  },
  {
   "cell_type": "code",
   "execution_count": 20,
   "id": "43c3be5b",
   "metadata": {},
   "outputs": [
    {
     "name": "stdout",
     "output_type": "stream",
     "text": [
      "pkl index:  0\n"
     ]
    },
    {
     "data": {
      "image/png": "[encoded data removed]",
      "text/plain": [
       "<Figure size 1080x504 with 5 Axes>"
      ]
     },
     "metadata": {
      "needs_background": "light"
     },
     "output_type": "display_data"
    }
   ],
   "source": [
    "fig = plt.figure(figsize=(15, 7), num=index)\n",
    "rows = 1\n",
    "columns = 5\n",
    "\n",
    "print('pkl index: ', index)\n",
    "\n",
    "lidar_imgs = lidar[0]\n",
    "img_file_names = lidar[1]\n",
    "\n",
    "fig.add_subplot(rows, columns, 1)\n",
    "plt.imshow(lidar_imgs[0], cmap='gray')\n",
    "plt.axis('off')\n",
    "plt.title(img_file_names[0])\n",
    "\n",
    "fig.add_subplot(rows, columns, 2)\n",
    "plt.imshow(lidar_imgs[1], cmap='gray')\n",
    "plt.axis('off')\n",
    "plt.title(img_file_names[1])\n",
    "\n",
    "fig.add_subplot(rows, columns, 3)\n",
    "plt.imshow(lidar_imgs[2], cmap='gray')\n",
    "plt.axis('off')\n",
    "plt.title(img_file_names[2])\n",
    "\n",
    "fig.add_subplot(rows, columns, 4)\n",
    "plt.imshow(lidar_imgs[3], cmap='gray')\n",
    "plt.axis('off')\n",
    "plt.title(img_file_names[3])\n",
    "\n",
    "fig.add_subplot(rows, columns, 5)\n",
    "plt.imshow(lidar_imgs[4], cmap='gray')\n",
    "plt.axis('off')\n",
    "plt.title(img_file_names[4]);\n"
   ]
  }
 ],
 "metadata": {
  "kernelspec": {
   "display_name": "Python 3.9.13 ('clip_social_nav')",
   "language": "python",
   "name": "python3"
  },
  "language_info": {
   "codemirror_mode": {
    "name": "ipython",
    "version": 3
   },
   "file_extension": ".py",
   "mimetype": "text/x-python",
   "name": "python",
   "nbconvert_exporter": "python",
   "pygments_lexer": "ipython3",
   "version": "3.9.13"
  },
  "vscode": {
   "interpreter": {
    "hash": "e2c86d3f01e403b9f22e01d3bbb387c16c7a05213d5936f651663b01b59ce1d3"
   }
  }
 },
 "nbformat": 4,
 "nbformat_minor": 5
}
