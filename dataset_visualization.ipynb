{
 "cells": [
  {
   "cell_type": "markdown",
   "id": "238d8c06",
   "metadata": {},
   "source": [
    "# Dataset Visualizer"
   ]
  },
  {
   "cell_type": "code",
   "execution_count": 9,
   "id": "18161707",
   "metadata": {},
   "outputs": [],
   "source": [
    "from dataset import CLIPSet\n",
    "from termcolor import cprint\n",
    "import pandas as pd\n",
    "import random\n",
    "import matplotlib.pyplot as plt\n",
    "%matplotlib inline\n"
   ]
  },
  {
   "cell_type": "markdown",
   "id": "807818f3",
   "metadata": {},
   "source": [
    "### Create a dataset object from a single pkl file"
   ]
  },
  {
   "cell_type": "code",
   "execution_count": 10,
   "id": "1e0fedc0",
   "metadata": {},
   "outputs": [
    {
     "name": "stdout",
     "output_type": "stream",
     "text": [
      "Pickle file exists. Loading from pickle file\u001b[0m\n",
      "\u001b[1m\u001b[33mDelay frame is : 30\u001b[0m\n"
     ]
    }
   ],
   "source": [
    "data_path = \"./data/train_final.pkl\"\n",
    "\n",
    "dataset = CLIPSet(pickle_file_path=data_path, visualize=True)"
   ]
  },
  {
   "cell_type": "code",
   "execution_count": 11,
   "id": "d7b614b2",
   "metadata": {},
   "outputs": [
    {
     "name": "stdout",
     "output_type": "stream",
     "text": [
      "length of dataset:  3330\n"
     ]
    }
   ],
   "source": [
    "print('length of dataset: ', len(dataset))"
   ]
  },
  {
   "cell_type": "markdown",
   "id": "0fe3b5b9",
   "metadata": {},
   "source": [
    "### Initialize a random index to choose a data sample from"
   ]
  },
  {
   "cell_type": "code",
   "execution_count": 5,
   "id": "763aee13",
   "metadata": {},
   "outputs": [
    {
     "name": "stdout",
     "output_type": "stream",
     "text": [
      "\u001b[32mindex: 1070\u001b[0m\n"
     ]
    }
   ],
   "source": [
    "index = random.randint(0, len(dataset) - dataset.delay - 1)\n",
    "# index = 0\n",
    "cprint(f'index: {index}', color='green')"
   ]
  },
  {
   "cell_type": "markdown",
   "id": "4c353d23",
   "metadata": {},
   "source": [
    "### Get lidar and joystick samples "
   ]
  },
  {
   "cell_type": "code",
   "execution_count": 6,
   "id": "10b5135a",
   "metadata": {},
   "outputs": [],
   "source": [
    "lidar, joy = dataset[index]"
   ]
  },
  {
   "cell_type": "markdown",
   "id": "facf682d",
   "metadata": {},
   "source": [
    "### View joystick sample as a table"
   ]
  },
  {
   "cell_type": "code",
   "execution_count": 7,
   "id": "29b65970",
   "metadata": {},
   "outputs": [
    {
     "data": {
      "text/html": [
       "<div>\n",
       "<style scoped>\n",
       "    .dataframe tbody tr th:only-of-type {\n",
       "        vertical-align: middle;\n",
       "    }\n",
       "\n",
       "    .dataframe tbody tr th {\n",
       "        vertical-align: top;\n",
       "    }\n",
       "\n",
       "    .dataframe thead th {\n",
       "        text-align: right;\n",
       "    }\n",
       "</style>\n",
       "<table border=\"1\" class=\"dataframe\">\n",
       "  <thead>\n",
       "    <tr style=\"text-align: right;\">\n",
       "      <th></th>\n",
       "      <th>linear_x</th>\n",
       "      <th>linear_y</th>\n",
       "      <th>angular_z</th>\n",
       "    </tr>\n",
       "  </thead>\n",
       "  <tbody>\n",
       "    <tr>\n",
       "      <th>0</th>\n",
       "      <td>1.600000</td>\n",
       "      <td>0.000000</td>\n",
       "      <td>-0.00000</td>\n",
       "    </tr>\n",
       "    <tr>\n",
       "      <th>1</th>\n",
       "      <td>1.600000</td>\n",
       "      <td>0.000000</td>\n",
       "      <td>-0.00000</td>\n",
       "    </tr>\n",
       "    <tr>\n",
       "      <th>2</th>\n",
       "      <td>1.554858</td>\n",
       "      <td>0.000000</td>\n",
       "      <td>-0.00000</td>\n",
       "    </tr>\n",
       "    <tr>\n",
       "      <th>3</th>\n",
       "      <td>1.451618</td>\n",
       "      <td>0.000000</td>\n",
       "      <td>-0.00000</td>\n",
       "    </tr>\n",
       "    <tr>\n",
       "      <th>4</th>\n",
       "      <td>1.412903</td>\n",
       "      <td>0.000000</td>\n",
       "      <td>-0.00000</td>\n",
       "    </tr>\n",
       "    <tr>\n",
       "      <th>...</th>\n",
       "      <td>...</td>\n",
       "      <td>...</td>\n",
       "      <td>...</td>\n",
       "    </tr>\n",
       "    <tr>\n",
       "      <th>447</th>\n",
       "      <td>1.600000</td>\n",
       "      <td>-0.018967</td>\n",
       "      <td>-0.12416</td>\n",
       "    </tr>\n",
       "    <tr>\n",
       "      <th>448</th>\n",
       "      <td>1.600000</td>\n",
       "      <td>-0.018967</td>\n",
       "      <td>-0.12416</td>\n",
       "    </tr>\n",
       "    <tr>\n",
       "      <th>449</th>\n",
       "      <td>1.600000</td>\n",
       "      <td>-0.018967</td>\n",
       "      <td>-0.12416</td>\n",
       "    </tr>\n",
       "    <tr>\n",
       "      <th>450</th>\n",
       "      <td>1.600000</td>\n",
       "      <td>-0.018967</td>\n",
       "      <td>-0.12416</td>\n",
       "    </tr>\n",
       "    <tr>\n",
       "      <th>451</th>\n",
       "      <td>1.600000</td>\n",
       "      <td>-0.018967</td>\n",
       "      <td>-0.12416</td>\n",
       "    </tr>\n",
       "  </tbody>\n",
       "</table>\n",
       "<p>452 rows × 3 columns</p>\n",
       "</div>"
      ],
      "text/plain": [
       "     linear_x  linear_y  angular_z\n",
       "0    1.600000  0.000000   -0.00000\n",
       "1    1.600000  0.000000   -0.00000\n",
       "2    1.554858  0.000000   -0.00000\n",
       "3    1.451618  0.000000   -0.00000\n",
       "4    1.412903  0.000000   -0.00000\n",
       "..        ...       ...        ...\n",
       "447  1.600000 -0.018967   -0.12416\n",
       "448  1.600000 -0.018967   -0.12416\n",
       "449  1.600000 -0.018967   -0.12416\n",
       "450  1.600000 -0.018967   -0.12416\n",
       "451  1.600000 -0.018967   -0.12416\n",
       "\n",
       "[452 rows x 3 columns]"
      ]
     },
     "execution_count": 7,
     "metadata": {},
     "output_type": "execute_result"
    }
   ],
   "source": [
    "joy_df = pd.DataFrame(data=joy, columns=[\n",
    "                                      'linear_x', 'linear_y', 'angular_z'])\n",
    "joy_df"
   ]
  },
  {
   "cell_type": "markdown",
   "id": "ed2561e4",
   "metadata": {},
   "source": [
    "### Measure the variability in length of joystick samples"
   ]
  },
  {
   "cell_type": "code",
   "execution_count": 8,
   "id": "e3fcd295",
   "metadata": {},
   "outputs": [
    {
     "ename": "KeyboardInterrupt",
     "evalue": "",
     "output_type": "error",
     "traceback": [
      "\u001b[0;31m---------------------------------------------------------------------------\u001b[0m",
      "\u001b[0;31mKeyboardInterrupt\u001b[0m                         Traceback (most recent call last)",
      "\u001b[1;32m/Users/abhinavchadaga/Developer/clip_social_nav/dataset_visualization.ipynb Cell 13\u001b[0m in \u001b[0;36m<cell line: 1>\u001b[0;34m()\u001b[0m\n\u001b[0;32m----> <a href='vscode-notebook-cell:/Users/abhinavchadaga/Developer/clip_social_nav/dataset_visualization.ipynb#ch0000012?line=0'>1</a>\u001b[0m joy_lengths \u001b[39m=\u001b[39m [dataset[i][\u001b[39m1\u001b[39m]\u001b[39m.\u001b[39mshape[\u001b[39m0\u001b[39m] \u001b[39mfor\u001b[39;00m i \u001b[39min\u001b[39;00m \u001b[39mrange\u001b[39m(\u001b[39mlen\u001b[39m(dataset) \u001b[39m-\u001b[39m dataset\u001b[39m.\u001b[39mdelay)]\n\u001b[1;32m      <a href='vscode-notebook-cell:/Users/abhinavchadaga/Developer/clip_social_nav/dataset_visualization.ipynb#ch0000012?line=1'>2</a>\u001b[0m min_joy_length \u001b[39m=\u001b[39m \u001b[39mmin\u001b[39m(joy_lengths)\n\u001b[1;32m      <a href='vscode-notebook-cell:/Users/abhinavchadaga/Developer/clip_social_nav/dataset_visualization.ipynb#ch0000012?line=2'>3</a>\u001b[0m max_joy_length \u001b[39m=\u001b[39m \u001b[39mmax\u001b[39m(joy_lengths)\n",
      "\u001b[1;32m/Users/abhinavchadaga/Developer/clip_social_nav/dataset_visualization.ipynb Cell 13\u001b[0m in \u001b[0;36m<listcomp>\u001b[0;34m(.0)\u001b[0m\n\u001b[0;32m----> <a href='vscode-notebook-cell:/Users/abhinavchadaga/Developer/clip_social_nav/dataset_visualization.ipynb#ch0000012?line=0'>1</a>\u001b[0m joy_lengths \u001b[39m=\u001b[39m [dataset[i][\u001b[39m1\u001b[39m]\u001b[39m.\u001b[39mshape[\u001b[39m0\u001b[39m] \u001b[39mfor\u001b[39;00m i \u001b[39min\u001b[39;00m \u001b[39mrange\u001b[39m(\u001b[39mlen\u001b[39m(dataset) \u001b[39m-\u001b[39m dataset\u001b[39m.\u001b[39mdelay)]\n\u001b[1;32m      <a href='vscode-notebook-cell:/Users/abhinavchadaga/Developer/clip_social_nav/dataset_visualization.ipynb#ch0000012?line=1'>2</a>\u001b[0m min_joy_length \u001b[39m=\u001b[39m \u001b[39mmin\u001b[39m(joy_lengths)\n\u001b[1;32m      <a href='vscode-notebook-cell:/Users/abhinavchadaga/Developer/clip_social_nav/dataset_visualization.ipynb#ch0000012?line=2'>3</a>\u001b[0m max_joy_length \u001b[39m=\u001b[39m \u001b[39mmax\u001b[39m(joy_lengths)\n",
      "File \u001b[0;32m~/Developer/clip_social_nav/dataset.py:59\u001b[0m, in \u001b[0;36mCLIPSet.__getitem__\u001b[0;34m(self, index)\u001b[0m\n\u001b[1;32m     55\u001b[0m \u001b[39mdef\u001b[39;00m \u001b[39m__getitem__\u001b[39m(\u001b[39mself\u001b[39m, index: \u001b[39mint\u001b[39m) \u001b[39m-\u001b[39m\u001b[39m>\u001b[39m Tuple[np\u001b[39m.\u001b[39mndarray, np\u001b[39m.\u001b[39mndarray]:\n\u001b[1;32m     56\u001b[0m     \u001b[39m# offset index\u001b[39;00m\n\u001b[1;32m     57\u001b[0m     index \u001b[39m=\u001b[39m \u001b[39mself\u001b[39m\u001b[39m.\u001b[39mdelay \u001b[39m+\u001b[39m index\n\u001b[0;32m---> 59\u001b[0m     lidar_stack \u001b[39m=\u001b[39m get_stack(odom\u001b[39m=\u001b[39;49m\u001b[39mself\u001b[39;49m\u001b[39m.\u001b[39;49mdata[\u001b[39m'\u001b[39;49m\u001b[39modom\u001b[39;49m\u001b[39m'\u001b[39;49m],\n\u001b[1;32m     60\u001b[0m                             lidar_path\u001b[39m=\u001b[39;49m\u001b[39mself\u001b[39;49m\u001b[39m.\u001b[39;49mlidar_dir,\n\u001b[1;32m     61\u001b[0m                             i\u001b[39m=\u001b[39;49mindex)\n\u001b[1;32m     63\u001b[0m     \u001b[39mif\u001b[39;00m \u001b[39mnot\u001b[39;00m \u001b[39mself\u001b[39m\u001b[39m.\u001b[39mvisualize:\n\u001b[1;32m     64\u001b[0m         lidar_stack \u001b[39m=\u001b[39m lidar_stack[\u001b[39m0\u001b[39m]\n",
      "File \u001b[0;32m~/Developer/clip_social_nav/lidar_helper.py:21\u001b[0m, in \u001b[0;36mget_stack\u001b[0;34m(odom, lidar_path, i)\u001b[0m\n\u001b[1;32m     20\u001b[0m \u001b[39mdef\u001b[39;00m \u001b[39mget_stack\u001b[39m(odom: \u001b[39mdict\u001b[39m, lidar_path: \u001b[39mstr\u001b[39m, i: \u001b[39mint\u001b[39m):\n\u001b[0;32m---> 21\u001b[0m     lidar_stack \u001b[39m=\u001b[39m [np\u001b[39m.\u001b[39marray(Image\u001b[39m.\u001b[39mopen(os\u001b[39m.\u001b[39mpath\u001b[39m.\u001b[39mjoin(\n\u001b[1;32m     22\u001b[0m         lidar_path, \u001b[39mf\u001b[39m\u001b[39m'\u001b[39m\u001b[39m{\u001b[39;00mx\u001b[39m}\u001b[39;00m\u001b[39m.png\u001b[39m\u001b[39m'\u001b[39m))) \u001b[39mfor\u001b[39;00m x \u001b[39min\u001b[39;00m \u001b[39mrange\u001b[39m(i \u001b[39m-\u001b[39m \u001b[39m20\u001b[39m \u001b[39m+\u001b[39m \u001b[39m1\u001b[39m, i \u001b[39m+\u001b[39m \u001b[39m1\u001b[39m)]\n\u001b[1;32m     23\u001b[0m     odom_stack \u001b[39m=\u001b[39m odom[i \u001b[39m-\u001b[39m \u001b[39m20\u001b[39m \u001b[39m+\u001b[39m \u001b[39m1\u001b[39m: i \u001b[39m+\u001b[39m \u001b[39m1\u001b[39m]\n\u001b[1;32m     24\u001b[0m     lidar_stack \u001b[39m=\u001b[39m [lidar_stack[i] \u001b[39mfor\u001b[39;00m i \u001b[39min\u001b[39;00m [\u001b[39m0\u001b[39m, \u001b[39m5\u001b[39m, \u001b[39m10\u001b[39m, \u001b[39m15\u001b[39m, \u001b[39m19\u001b[39m]]\n",
      "File \u001b[0;32m~/Developer/clip_social_nav/lidar_helper.py:21\u001b[0m, in \u001b[0;36m<listcomp>\u001b[0;34m(.0)\u001b[0m\n\u001b[1;32m     20\u001b[0m \u001b[39mdef\u001b[39;00m \u001b[39mget_stack\u001b[39m(odom: \u001b[39mdict\u001b[39m, lidar_path: \u001b[39mstr\u001b[39m, i: \u001b[39mint\u001b[39m):\n\u001b[0;32m---> 21\u001b[0m     lidar_stack \u001b[39m=\u001b[39m [np\u001b[39m.\u001b[39;49marray(Image\u001b[39m.\u001b[39;49mopen(os\u001b[39m.\u001b[39;49mpath\u001b[39m.\u001b[39;49mjoin(\n\u001b[1;32m     22\u001b[0m         lidar_path, \u001b[39mf\u001b[39;49m\u001b[39m'\u001b[39;49m\u001b[39m{\u001b[39;49;00mx\u001b[39m}\u001b[39;49;00m\u001b[39m.png\u001b[39;49m\u001b[39m'\u001b[39;49m))) \u001b[39mfor\u001b[39;00m x \u001b[39min\u001b[39;00m \u001b[39mrange\u001b[39m(i \u001b[39m-\u001b[39m \u001b[39m20\u001b[39m \u001b[39m+\u001b[39m \u001b[39m1\u001b[39m, i \u001b[39m+\u001b[39m \u001b[39m1\u001b[39m)]\n\u001b[1;32m     23\u001b[0m     odom_stack \u001b[39m=\u001b[39m odom[i \u001b[39m-\u001b[39m \u001b[39m20\u001b[39m \u001b[39m+\u001b[39m \u001b[39m1\u001b[39m: i \u001b[39m+\u001b[39m \u001b[39m1\u001b[39m]\n\u001b[1;32m     24\u001b[0m     lidar_stack \u001b[39m=\u001b[39m [lidar_stack[i] \u001b[39mfor\u001b[39;00m i \u001b[39min\u001b[39;00m [\u001b[39m0\u001b[39m, \u001b[39m5\u001b[39m, \u001b[39m10\u001b[39m, \u001b[39m15\u001b[39m, \u001b[39m19\u001b[39m]]\n",
      "File \u001b[0;32m/opt/homebrew/Caskroom/miniforge/base/envs/clip_social_nav/lib/python3.9/site-packages/PIL/Image.py:687\u001b[0m, in \u001b[0;36mImage.__array_interface__\u001b[0;34m(self)\u001b[0m\n\u001b[1;32m    685\u001b[0m     new[\u001b[39m\"\u001b[39m\u001b[39mdata\u001b[39m\u001b[39m\"\u001b[39m] \u001b[39m=\u001b[39m \u001b[39mself\u001b[39m\u001b[39m.\u001b[39mtobytes(\u001b[39m\"\u001b[39m\u001b[39mraw\u001b[39m\u001b[39m\"\u001b[39m, \u001b[39m\"\u001b[39m\u001b[39mL\u001b[39m\u001b[39m\"\u001b[39m)\n\u001b[1;32m    686\u001b[0m \u001b[39melse\u001b[39;00m:\n\u001b[0;32m--> 687\u001b[0m     new[\u001b[39m\"\u001b[39m\u001b[39mdata\u001b[39m\u001b[39m\"\u001b[39m] \u001b[39m=\u001b[39m \u001b[39mself\u001b[39;49m\u001b[39m.\u001b[39;49mtobytes()\n\u001b[1;32m    688\u001b[0m \u001b[39mreturn\u001b[39;00m new\n",
      "File \u001b[0;32m/opt/homebrew/Caskroom/miniforge/base/envs/clip_social_nav/lib/python3.9/site-packages/PIL/Image.py:729\u001b[0m, in \u001b[0;36mImage.tobytes\u001b[0;34m(self, encoder_name, *args)\u001b[0m\n\u001b[1;32m    726\u001b[0m \u001b[39mif\u001b[39;00m encoder_name \u001b[39m==\u001b[39m \u001b[39m\"\u001b[39m\u001b[39mraw\u001b[39m\u001b[39m\"\u001b[39m \u001b[39mand\u001b[39;00m args \u001b[39m==\u001b[39m ():\n\u001b[1;32m    727\u001b[0m     args \u001b[39m=\u001b[39m \u001b[39mself\u001b[39m\u001b[39m.\u001b[39mmode\n\u001b[0;32m--> 729\u001b[0m \u001b[39mself\u001b[39;49m\u001b[39m.\u001b[39;49mload()\n\u001b[1;32m    731\u001b[0m \u001b[39mif\u001b[39;00m \u001b[39mself\u001b[39m\u001b[39m.\u001b[39mwidth \u001b[39m==\u001b[39m \u001b[39m0\u001b[39m \u001b[39mor\u001b[39;00m \u001b[39mself\u001b[39m\u001b[39m.\u001b[39mheight \u001b[39m==\u001b[39m \u001b[39m0\u001b[39m:\n\u001b[1;32m    732\u001b[0m     \u001b[39mreturn\u001b[39;00m \u001b[39mb\u001b[39m\u001b[39m\"\u001b[39m\u001b[39m\"\u001b[39m\n",
      "File \u001b[0;32m/opt/homebrew/Caskroom/miniforge/base/envs/clip_social_nav/lib/python3.9/site-packages/PIL/ImageFile.py:257\u001b[0m, in \u001b[0;36mImageFile.load\u001b[0;34m(self)\u001b[0m\n\u001b[1;32m    251\u001b[0m         \u001b[39mraise\u001b[39;00m \u001b[39mOSError\u001b[39;00m(\n\u001b[1;32m    252\u001b[0m             \u001b[39m\"\u001b[39m\u001b[39mimage file is truncated \u001b[39m\u001b[39m\"\u001b[39m\n\u001b[1;32m    253\u001b[0m             \u001b[39mf\u001b[39m\u001b[39m\"\u001b[39m\u001b[39m(\u001b[39m\u001b[39m{\u001b[39;00m\u001b[39mlen\u001b[39m(b)\u001b[39m}\u001b[39;00m\u001b[39m bytes not processed)\u001b[39m\u001b[39m\"\u001b[39m\n\u001b[1;32m    254\u001b[0m         )\n\u001b[1;32m    256\u001b[0m b \u001b[39m=\u001b[39m b \u001b[39m+\u001b[39m s\n\u001b[0;32m--> 257\u001b[0m n, err_code \u001b[39m=\u001b[39m decoder\u001b[39m.\u001b[39;49mdecode(b)\n\u001b[1;32m    258\u001b[0m \u001b[39mif\u001b[39;00m n \u001b[39m<\u001b[39m \u001b[39m0\u001b[39m:\n\u001b[1;32m    259\u001b[0m     \u001b[39mbreak\u001b[39;00m\n",
      "\u001b[0;31mKeyboardInterrupt\u001b[0m: "
     ]
    }
   ],
   "source": [
    "joy_lengths = [dataset[i][1].shape[0] for i in range(len(dataset) - dataset.delay)]\n",
    "min_joy_length = min(joy_lengths)\n",
    "max_joy_length = max(joy_lengths)\n",
    "mean_joy_length = sum(joy_lengths) / len(joy_lengths)\n",
    "\n",
    "print('minimum joystick sequence length: ', min_joy_length)\n",
    "print('maximum joystick sequence length: ', max_joy_length)\n",
    "print('mean joystick sequence length: ', mean_joy_length)"
   ]
  },
  {
   "cell_type": "markdown",
   "id": "f0bd3c8f",
   "metadata": {},
   "source": [
    "### Measure the variability in the joystick readings"
   ]
  },
  {
   "cell_type": "code",
   "execution_count": null,
   "id": "b8df88bf",
   "metadata": {},
   "outputs": [],
   "source": [
    "linear_x_max = joy_df['linear_x'].max()\n",
    "linear_x_min = joy_df['linear_y'].min()\n",
    "linear_x_avg = joy_df['linear_x'].mean()\n",
    "\n",
    "linear_y_max = joy_df['linear_y'].max()\n",
    "linear_y_min = joy_df['linear_y'].min()\n",
    "linear_y_avg = joy_df['linear_y'].mean()\n",
    "\n",
    "angular_z_max = joy_df['angular_z'].max()\n",
    "angular_z_min = joy_df['angular_z'].min()\n",
    "angular_z_avg = joy_df['angular_z'].mean()"
   ]
  },
  {
   "cell_type": "code",
   "execution_count": null,
   "id": "26e2de15",
   "metadata": {},
   "outputs": [],
   "source": [
    "joy_stats = {\"linear_x\": [linear_x_max, linear_x_min, linear_x_avg], \"linear_y\": [\n",
    "    linear_y_max, linear_y_min, linear_y_avg], \"angular_z\": [angular_z_max, angular_z_min, angular_z_avg]}\n",
    "\n",
    "joy_stats_df = pd.DataFrame(data=joy_stats, columns=[\n",
    "                            'linear_x', 'linear_y', 'angular_z'], index=['max', 'min', 'avg'])\n",
    "\n",
    "joy_stats_df\n"
   ]
  },
  {
   "cell_type": "markdown",
   "id": "0256aaea",
   "metadata": {},
   "source": [
    "### Visualize the bev lidar image stack"
   ]
  },
  {
   "cell_type": "code",
   "execution_count": null,
   "id": "43c3be5b",
   "metadata": {},
   "outputs": [],
   "source": [
    "fig = plt.figure(figsize=(15, 10), num=index)\n",
    "rows = 2\n",
    "columns = 3\n",
    "\n",
    "print('get index: ', index, ', actual index: ', index + dataset.delay)\n",
    "\n",
    "lidar_imgs = lidar[0]\n",
    "img_file_names = lidar[1]\n",
    "\n",
    "fig.add_subplot(rows, columns, 1)\n",
    "plt.imshow(lidar_imgs[0], cmap='gray')\n",
    "plt.title(f'{img_file_names[0]}, index: 0')\n",
    "\n",
    "fig.add_subplot(rows, columns, 2)\n",
    "plt.imshow(lidar_imgs[1], cmap='gray')\n",
    "plt.title(img_file_names[1])\n",
    "\n",
    "fig.add_subplot(rows, columns, 3)\n",
    "plt.imshow(lidar_imgs[2], cmap='gray')\n",
    "plt.title(img_file_names[2])\n",
    "\n",
    "fig.add_subplot(rows, columns, 4)\n",
    "plt.imshow(lidar_imgs[3], cmap='gray')\n",
    "plt.title(img_file_names[3])\n",
    "\n",
    "fig.add_subplot(rows, columns, 5)\n",
    "plt.imshow(lidar_imgs[4], cmap='gray')\n",
    "plt.title(img_file_names[4]);\n"
   ]
  },
  {
   "cell_type": "code",
   "execution_count": null,
   "id": "400e9766",
   "metadata": {},
   "outputs": [],
   "source": []
  }
 ],
 "metadata": {
  "kernelspec": {
   "display_name": "Python 3 (ipykernel)",
   "language": "python",
   "name": "python3"
  },
  "language_info": {
   "codemirror_mode": {
    "name": "ipython",
    "version": 3
   },
   "file_extension": ".py",
   "mimetype": "text/x-python",
   "name": "python",
   "nbconvert_exporter": "python",
   "pygments_lexer": "ipython3",
   "version": "3.9.13"
  },
  "vscode": {
   "interpreter": {
    "hash": "e2c86d3f01e403b9f22e01d3bbb387c16c7a05213d5936f651663b01b59ce1d3"
   }
  }
 },
 "nbformat": 4,
 "nbformat_minor": 5
}
