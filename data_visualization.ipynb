{
 "cells": [
  {
   "cell_type": "markdown",
   "metadata": {},
   "source": [
    "# Data Visualization\n",
    "Visualize the lidar, joystick, and 10m goal data"
   ]
  },
  {
   "cell_type": "code",
   "execution_count": 2,
   "metadata": {},
   "outputs": [],
   "source": [
    "from dataset import CLIPDataModule, CLIPSet\n",
    "from termcolor import cprint\n",
    "import pandas as pd\n",
    "import matplotlib.pyplot as plt\n",
    "import pickle\n",
    "import utils\n",
    "import os\n",
    "import glob\n",
    "%matplotlib inline"
   ]
  },
  {
   "cell_type": "markdown",
   "metadata": {},
   "source": [
    "## Create CLIPDataModule"
   ]
  },
  {
   "cell_type": "code",
   "execution_count": 8,
   "metadata": {},
   "outputs": [
    {
     "name": "stdout",
     "output_type": "stream",
     "text": [
      "\u001b[1m\u001b[32mloading data from trash...\u001b[0m\n",
      "\u001b[36mskip first 50 frames\u001b[0m\n",
      "\u001b[36mbatch size: 32\u001b[0m\n",
      "\u001b[36mfuture joystick length: 300\n",
      "\u001b[0m\n",
      "\u001b[32mcreating training set...\u001b[0m\n"
     ]
    },
    {
     "data": {
      "application/vnd.jupyter.widget-view+json": {
       "model_id": "8456e131f52949488f97034883e281b2",
       "version_major": 2,
       "version_minor": 0
      },
      "text/plain": [
       "  0%|          | 0/1 [00:00<?, ?it/s]"
      ]
     },
     "metadata": {},
     "output_type": "display_data"
    },
    {
     "name": "stdout",
     "output_type": "stream",
     "text": [
      "\u001b[32mcreating validation set...\u001b[0m\n"
     ]
    },
    {
     "data": {
      "application/vnd.jupyter.widget-view+json": {
       "model_id": "ec20125957dd45cd9ef39967ae60090d",
       "version_major": 2,
       "version_minor": 0
      },
      "text/plain": [
       "  0%|          | 0/1 [00:00<?, ?it/s]"
      ]
     },
     "metadata": {},
     "output_type": "display_data"
    },
    {
     "name": "stdout",
     "output_type": "stream",
     "text": [
      "\u001b[36mtraining size: 3289 samples\u001b[0m\n",
      "\u001b[36mvalidation size: 2898 samples\u001b[0m\n"
     ]
    }
   ],
   "source": [
    "dm = CLIPDataModule(data_path='trash',\n",
    "                    batch_size=32,\n",
    "                    num_workers=10,\n",
    "                    joy_len=300,\n",
    "                    include_lidar_file_names=True,\n",
    "                    verbose=True)\n",
    "\n",
    "dm.setup()"
   ]
  },
  {
   "cell_type": "code",
   "execution_count": 9,
   "metadata": {},
   "outputs": [
    {
     "name": "stdout",
     "output_type": "stream",
     "text": [
      "\u001b[1m\u001b[32mnumber of samples: 6187\u001b[0m\n"
     ]
    }
   ],
   "source": [
    "cprint(f\"number of samples: {len(dm.training_set) + len(dm.validation_set)}\",\n",
    "       'green',\n",
    "       attrs=['bold'])"
   ]
  },
  {
   "cell_type": "markdown",
   "metadata": {},
   "source": [
    "## Test Training DataLoader\n",
    "Check if all batches can be retrieved successfully\n",
    "\n",
    "### Shape Information:\n",
    "```lidar_stack.shape``` = (batch size, channels, img height, img width) \\\n",
    "```joystick.shape``` = (batch size, joy_len, 3) \\\n",
    "```goal.shape``` = (batch size, 2)\n"
   ]
  },
  {
   "cell_type": "code",
   "execution_count": 11,
   "metadata": {},
   "outputs": [
    {
     "data": {
      "text/plain": [
       "['/home/abhinavchadaga/Developer/summer_22_research/clip_social_nav/trash/2021-11-15-14-31-02_final.pkl',\n",
       " '/home/abhinavchadaga/Developer/summer_22_research/clip_social_nav/trash/2021-11-15-14-22-52_final.pkl']"
      ]
     },
     "execution_count": 11,
     "metadata": {},
     "output_type": "execute_result"
    }
   ],
   "source": [
    "pickle_files = glob.glob(os.path.join('/home/abhinavchadaga/Developer/summer_22_research/clip_social_nav/trash', '*.pkl*'))\n",
    "pickle_files"
   ]
  },
  {
   "cell_type": "code",
   "execution_count": 13,
   "metadata": {},
   "outputs": [
    {
     "name": "stdout",
     "output_type": "stream",
     "text": [
      "\u001b[1m\u001b[37mpickle_file_path: /home/abhinavchadaga/Developer/summer_22_research/clip_social_nav/trash/2021-11-15-14-31-02_final.pkl\u001b[0m\n",
      "failed index: 3282\n",
      "failed index: 3283\n",
      "failed index: 3284\n",
      "failed index: 3285\n",
      "failed index: 3286\n",
      "failed index: 3287\n",
      "failed index: 3288\n",
      "\u001b[1m\u001b[32m1/2 completed\u001b[0m\n",
      "\u001b[1m\u001b[37mpickle_file_path: /home/abhinavchadaga/Developer/summer_22_research/clip_social_nav/trash/2021-11-15-14-22-52_final.pkl\u001b[0m\n",
      "failed index: 2886\n",
      "failed index: 2887\n",
      "failed index: 2888\n",
      "failed index: 2889\n",
      "failed index: 2890\n",
      "failed index: 2891\n",
      "failed index: 2892\n",
      "failed index: 2893\n",
      "failed index: 2894\n",
      "failed index: 2895\n",
      "failed index: 2896\n",
      "failed index: 2897\n",
      "\u001b[1m\u001b[32m2/2 completed\u001b[0m\n",
      "CPU times: user 2min 53s, sys: 6.43 s, total: 3min\n",
      "Wall time: 2min 16s\n"
     ]
    }
   ],
   "source": [
    "%%time\n",
    "# check that all samples can be retrieved\n",
    "for i, f in enumerate(pickle_files):\n",
    "    cprint(f'pickle_file_path: {f}', 'white', attrs=['bold'])\n",
    "    d = CLIPSet(pickle_file_path=f)\n",
    "    for j in range(len(d)):\n",
    "        try:\n",
    "            sample = d[j]\n",
    "        except:\n",
    "            print(f'failed index: {j}')\n",
    "    cprint(f'{i + 1}/{len(pickle_files)} completed', 'green', attrs=['bold'])\n",
    "    "
   ]
  },
  {
   "cell_type": "code",
   "execution_count": 3,
   "metadata": {},
   "outputs": [
    {
     "name": "stdout",
     "output_type": "stream",
     "text": [
      "3332\n"
     ]
    },
    {
     "data": {
      "text/plain": [
       "3282"
      ]
     },
     "execution_count": 3,
     "metadata": {},
     "output_type": "execute_result"
    }
   ],
   "source": [
    "## 3282\n",
    "data = pickle.load(open('/home/abhinavchadaga/Developer/summer_22_research/clip_social_nav/trash/2021-11-15-14-31-02_final.pkl', 'rb'), encoding='latin1')\n",
    "print(len(data['odom']))\n",
    "dataset = CLIPSet(\n",
    "    pickle_file_path='/home/abhinavchadaga/Developer/summer_22_research/clip_social_nav/trash/2021-11-15-14-31-02_final.pkl')\n",
    "len(dataset)"
   ]
  },
  {
   "cell_type": "code",
   "execution_count": null,
   "metadata": {},
   "outputs": [],
   "source": [
    "# turn train_dataloader into iterable\n",
    "trainloader = dm.train_dataloader()\n",
    "train_iter = iter(trainloader)\n",
    "print(f'number of batches: {len(trainloader)}')"
   ]
  },
  {
   "cell_type": "code",
   "execution_count": null,
   "metadata": {},
   "outputs": [],
   "source": [
    "batch = next(iter(trainloader))\n",
    "print(type(batch))"
   ]
  },
  {
   "cell_type": "markdown",
   "metadata": {},
   "source": [
    "## Select Random Sample from Training Data"
   ]
  },
  {
   "cell_type": "code",
   "execution_count": null,
   "metadata": {},
   "outputs": [],
   "source": [
    "import random\n",
    "\n",
    "# create CLIPset from larger pkl file\n",
    "train_set = CLIPSet(pickle_file_path='/home/abhinavchadaga/CS/clip_social_nav/data/2021-11-09-12-58-45_final.pkl', include_lidar_file_names=True)\n",
    "\n",
    "# select random index\n",
    "idx = random.randint(0, len(train_set))\n",
    "\n",
    "# get random sample\n",
    "sample = train_set[idx]\n",
    "sample_2 = train_set[idx+1]"
   ]
  },
  {
   "cell_type": "code",
   "execution_count": null,
   "metadata": {},
   "outputs": [],
   "source": [
    "lidar = sample[0][0]\n",
    "lidar.shape"
   ]
  },
  {
   "cell_type": "markdown",
   "metadata": {},
   "source": [
    "## Visualize Lidar Stack "
   ]
  },
  {
   "cell_type": "code",
   "execution_count": null,
   "metadata": {},
   "outputs": [],
   "source": [
    "# visualize mode returns lidar stack\n",
    "# and the corresponding file names\n",
    "lidar_stack = sample[0][0]\n",
    "lidar_fnames = sample[0][1]\n",
    "\n",
    "cprint(f'index: {idx}, total offset: 50', color='green', attrs=['bold'])\n",
    "utils.visualize_lidar_stack(lidar_stack=lidar_stack, file_names=lidar_fnames)"
   ]
  },
  {
   "cell_type": "markdown",
   "metadata": {},
   "source": [
    "## Visualize Joystick Data\n",
    "\n",
    "In table format"
   ]
  },
  {
   "cell_type": "code",
   "execution_count": null,
   "metadata": {},
   "outputs": [],
   "source": [
    "import numpy as np\n",
    "\n",
    "joystick = sample[1]\n",
    "print('joystick dtype: ', joystick.dtype)\n",
    "print('joystick shape: ', joystick.shape)\n",
    "\n",
    "joy_df = pd.DataFrame(data=joystick,\n",
    "                      columns=['linear_x', 'linear_y', 'angular_z'])\n",
    "joy_df"
   ]
  },
  {
   "cell_type": "code",
   "execution_count": null,
   "metadata": {},
   "outputs": [],
   "source": [
    "joy_df_2 = pd.DataFrame(data=sample_2[1],\n",
    "                      columns=['linear_x', 'linear_y', 'angular_z'])\n",
    "joy_df_2\n"
   ]
  },
  {
   "cell_type": "code",
   "execution_count": null,
   "metadata": {},
   "outputs": [],
   "source": [
    "pd.set_option('display.max_rows', 500)"
   ]
  },
  {
   "cell_type": "markdown",
   "metadata": {},
   "source": [
    "## Goal Information\n",
    "(x, y) location relative to the current position of the robot"
   ]
  },
  {
   "cell_type": "code",
   "execution_count": null,
   "metadata": {},
   "outputs": [],
   "source": [
    "goal = sample[2]\n",
    "print(f'x: {goal[0]:.2f}, y: {goal[1]:.2f}')"
   ]
  },
  {
   "cell_type": "code",
   "execution_count": null,
   "metadata": {},
   "outputs": [],
   "source": [
    "import numpy as np\n",
    "\n",
    "data = pickle.load(open('../data/2021-11-15-15-06-15_final.pkl', 'rb'), encoding='latin1')\n",
    "lidar_frame_w_goal = utils.visualize_goal(lidar_frame=lidar_stack[-1], goal=goal)\n",
    "plt.figure(figsize=(10, 10))\n",
    "plt.imshow(lidar_frame_w_goal);"
   ]
  },
  {
   "cell_type": "code",
   "execution_count": null,
   "metadata": {},
   "outputs": [],
   "source": []
  }
 ],
 "metadata": {
  "kernelspec": {
   "display_name": "Python 3.8.10 64-bit",
   "language": "python",
   "name": "python3"
  },
  "language_info": {
   "codemirror_mode": {
    "name": "ipython",
    "version": 3
   },
   "file_extension": ".py",
   "mimetype": "text/x-python",
   "name": "python",
   "nbconvert_exporter": "python",
   "pygments_lexer": "ipython3",
   "version": "3.8.10"
  },
  "vscode": {
   "interpreter": {
    "hash": "e7370f93d1d0cde622a1f8e1c04877d8463912d04d973331ad4851f04de6915a"
   }
  }
 },
 "nbformat": 4,
 "nbformat_minor": 2
}
