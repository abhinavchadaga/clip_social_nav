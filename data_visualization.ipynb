{
 "cells": [
  {
   "cell_type": "code",
   "execution_count": 1,
   "id": "46b85f09",
   "metadata": {
    "pycharm": {
     "name": "#%%\n"
    }
   },
   "outputs": [],
   "source": [
    "from dataset import CLIPDataModule\n",
    "from termcolor import cprint\n",
    "import pandas as pd\n",
    "import time\n",
    "import psutil\n",
    "import matplotlib.pyplot as plt\n",
    "from lidar_helper import get_affine_matrix_quat\n",
    "%matplotlib inline"
   ]
  },
  {
   "cell_type": "markdown",
   "id": "1fb0df9a",
   "metadata": {
    "pycharm": {
     "name": "#%% md\n"
    }
   },
   "source": [
    "### Create Dataloader Using All Processed Pickle Files\n",
    "batch size of 64 \\\n",
    "using the main process"
   ]
  },
  {
   "cell_type": "code",
   "execution_count": 2,
   "id": "2c665bee",
   "metadata": {
    "pycharm": {
     "name": "#%%\n"
    }
   },
   "outputs": [
    {
     "name": "stdout",
     "output_type": "stream",
     "text": [
      "available workers:  16\n"
     ]
    }
   ],
   "source": [
    "num_workers = psutil.cpu_count()\n",
    "print('available workers: ', num_workers)"
   ]
  },
  {
   "cell_type": "code",
   "execution_count": 3,
   "id": "8b55f9e6",
   "metadata": {
    "pycharm": {
     "name": "#%%\n"
    }
   },
   "outputs": [
    {
     "name": "stderr",
     "output_type": "stream",
     "text": [
      "\r",
      "  0%|                                                                                                                                                                                                                                                                                    | 0/1 [00:00<?, ?it/s]"
     ]
    },
    {
     "name": "stdout",
     "output_type": "stream",
     "text": [
      "Pickle file exists. Loading from pickle file\u001b[0m\n"
     ]
    },
    {
     "name": "stderr",
     "output_type": "stream",
     "text": [
      "100%|████████████████████████████████████████████████████████████████████████████████████████████████████████████████████████████████████████████████████████████████████████████████████████████████████████████████████████████████████████████████████████████████████████████| 1/1 [00:01<00:00,  1.07s/it]"
     ]
    },
    {
     "name": "stdout",
     "output_type": "stream",
     "text": [
      "\u001b[1m\u001b[33mDelay frame is : 30\u001b[0m\n"
     ]
    },
    {
     "name": "stderr",
     "output_type": "stream",
     "text": [
      "\n"
     ]
    }
   ],
   "source": [
    "dm = CLIPDataModule(\n",
    "    data_dir='./not_working/',\n",
    "    batch_size=32,\n",
    "    num_workers=16,\n",
    "    joy_pred_len=240,\n",
    "    include_lidar_file_names=True,\n",
    "    visualize_goal=True\n",
    ")\n",
    "\n",
    "dm.setup()"
   ]
  },
  {
   "cell_type": "markdown",
   "id": "e515b8c3",
   "metadata": {
    "pycharm": {
     "name": "#%% md\n"
    }
   },
   "source": [
    "### Dataset"
   ]
  },
  {
   "cell_type": "code",
   "execution_count": 4,
   "id": "6eb7dfcc",
   "metadata": {
    "pycharm": {
     "name": "#%%\n"
    }
   },
   "outputs": [
    {
     "name": "stdout",
     "output_type": "stream",
     "text": [
      "\u001b[1m\u001b[32mnumber of samples: 2148\u001b[0m\n"
     ]
    }
   ],
   "source": [
    "cprint(f\"number of samples: {len(dm.dataset)}\", 'green', attrs=['bold'])"
   ]
  },
  {
   "cell_type": "markdown",
   "id": "8f4dfaa4",
   "metadata": {
    "pycharm": {
     "name": "#%% md\n"
    }
   },
   "source": [
    "### Test Trainloader Iteration\n",
    "\n",
    "<b>NOTE</b>: lidar batch data is returned as a tuple (lidar_stack, file_names) where file names is used for visualization/debug purposes\n",
    "\n",
    "<b>Shape Information</b>: \\\n",
    "```lidar_stack.shape``` = (batch size, channels, img height, img width) \\\n",
    "```joystick.shape``` = (batch size, future cuttoff, xyz) \\\n",
    "```goal.shape``` = (batch size, 2)\n"
   ]
  },
  {
   "cell_type": "code",
   "execution_count": 5,
   "id": "258dd2d8",
   "metadata": {
    "pycharm": {
     "name": "#%%\n"
    }
   },
   "outputs": [
    {
     "data": {
      "text/plain": [
       "50"
      ]
     },
     "execution_count": 5,
     "metadata": {},
     "output_type": "execute_result"
    }
   ],
   "source": [
    "# turn train_dataloader into iterable\n",
    "trainloader = dm.train_dataloader()\n",
    "train_iter = iter(trainloader)\n",
    "len(trainloader)"
   ]
  },
  {
   "cell_type": "code",
   "execution_count": 6,
   "id": "237b2470",
   "metadata": {
    "pycharm": {
     "name": "#%%\n"
    }
   },
   "outputs": [
    {
     "name": "stdout",
     "output_type": "stream",
     "text": [
      "lidar img batch shape:  torch.Size([32, 5, 401, 401])\n",
      "lidar file names batch shape:  torch.Size([32, 5])\n",
      "joystick batch shape:  torch.Size([32, 240, 3])\n",
      "goal batch shape:  torch.Size([32, 2])\n",
      "\u001b[1m\u001b[32msuccessfully retrieved all batches !!!\u001b[0m\n",
      "CPU times: user 43 ms, sys: 503 ms, total: 546 ms\n",
      "Wall time: 10 s\n"
     ]
    }
   ],
   "source": [
    "%%time\n",
    "for i, batch in enumerate(trainloader):\n",
    "    lidar, joystick, goal = batch\n",
    "    lidar_stack = lidar[0]\n",
    "    lidar_fnames = lidar[1]\n",
    "    if i == 1:\n",
    "        print('lidar img batch shape: ', lidar_stack.shape)\n",
    "        print('lidar file names batch shape: ', lidar_fnames.shape)\n",
    "        print('joystick batch shape: ', joystick.shape)\n",
    "        print('goal batch shape: ', goal.shape)\n",
    "\n",
    "cprint(f'successfully retrieved all batches !!!', color='green', attrs=['bold'])"
   ]
  },
  {
   "cell_type": "markdown",
   "id": "c08d434b",
   "metadata": {
    "pycharm": {
     "name": "#%% md\n"
    }
   },
   "source": [
    "### Select a Random Sample from the Entire Dataset to Visualize"
   ]
  },
  {
   "cell_type": "code",
   "execution_count": null,
   "id": "59d8b8de",
   "metadata": {
    "pycharm": {
     "name": "#%%\n"
    }
   },
   "outputs": [],
   "source": [
    "import random\n",
    "\n",
    "idx = random.randint(0, len(dm.dataset))\n",
    "\n",
    "# get random sample\n",
    "sample = dm.dataset[idx]"
   ]
  },
  {
   "cell_type": "markdown",
   "id": "ac07f87d",
   "metadata": {
    "pycharm": {
     "name": "#%% md\n"
    }
   },
   "source": [
    "### Visualize Lidar Stack\n",
    "\n",
    "Display 5 images from the randomly selected sample lidar stack"
   ]
  },
  {
   "cell_type": "code",
   "execution_count": null,
   "id": "d73ad4c3",
   "metadata": {
    "pycharm": {
     "name": "#%%\n"
    }
   },
   "outputs": [],
   "source": [
    "from lidar_helper import visualize_lidar_stack\n",
    "\n",
    "# visualize mode returns lidar stack\n",
    "# and the corresponding file names\n",
    "lidar_stack = sample[0][0]\n",
    "lidar_fnames = sample[0][1]\n",
    "\n",
    "cprint(f'index: {idx}, total offset: 50', color='green', attrs=['bold'])\n",
    "visualize_lidar_stack(lidar_stack=lidar_stack, file_names=lidar_fnames)"
   ]
  },
  {
   "cell_type": "markdown",
   "id": "613dbc05",
   "metadata": {
    "pycharm": {
     "name": "#%% md\n"
    }
   },
   "source": [
    "### Visualize Future Joystick in Table View"
   ]
  },
  {
   "cell_type": "code",
   "execution_count": null,
   "id": "2209192f",
   "metadata": {
    "pycharm": {
     "name": "#%%\n"
    }
   },
   "outputs": [],
   "source": [
    "joystick = sample[1]\n",
    "print('joystick dtype: ', joystick.dtype)\n",
    "print('joystick shape: ', joystick.shape)\n",
    "\n",
    "joy_df = pd.DataFrame(data=joystick, columns=['linear_x', 'linear_y', 'angular_z'])\n",
    "joy_df"
   ]
  },
  {
   "cell_type": "code",
   "execution_count": null,
   "id": "d9c70d42",
   "metadata": {
    "pycharm": {
     "name": "#%%\n"
    }
   },
   "outputs": [],
   "source": [
    "joystick = sample[1]\n",
    "print('joystick shape: ', joystick.shape)\n",
    "\n",
    "joy_df = pd.DataFrame(data=joystick, columns=['linear_x', 'linear_y', 'angular_z'])\n",
    "joy_df"
   ]
  },
  {
   "cell_type": "markdown",
   "id": "56dda20d",
   "metadata": {
    "pycharm": {
     "name": "#%% md\n"
    }
   },
   "source": [
    "### Display Some Joystick Stats"
   ]
  },
  {
   "cell_type": "code",
   "execution_count": null,
   "id": "4af72985",
   "metadata": {
    "pycharm": {
     "name": "#%%\n"
    }
   },
   "outputs": [],
   "source": [
    "linear_x_max = joy_df['linear_x'].max()\n",
    "linear_x_min = joy_df['linear_y'].min()\n",
    "linear_x_avg = joy_df['linear_x'].mean()\n",
    "\n",
    "linear_y_max = joy_df['linear_y'].max()\n",
    "linear_y_min = joy_df['linear_y'].min()\n",
    "linear_y_avg = joy_df['linear_y'].mean()\n",
    "\n",
    "angular_z_max = joy_df['angular_z'].max()\n",
    "angular_z_min = joy_df['angular_z'].min()\n",
    "angular_z_avg = joy_df['angular_z'].mean()"
   ]
  },
  {
   "cell_type": "code",
   "execution_count": null,
   "id": "e95a9736",
   "metadata": {
    "pycharm": {
     "name": "#%%\n"
    }
   },
   "outputs": [],
   "source": [
    "joy_stats = {\"linear_x\": [linear_x_max, linear_x_min, linear_x_avg], \"linear_y\": [\n",
    "    linear_y_max, linear_y_min, linear_y_avg], \"angular_z\": [angular_z_max, angular_z_min, angular_z_avg]}\n",
    "\n",
    "joy_stats_df = pd.DataFrame(data=joy_stats, columns=[\n",
    "                            'linear_x', 'linear_y', 'angular_z'], index=['max', 'min', 'avg'])\n",
    "\n",
    "joy_stats_df\n"
   ]
  },
  {
   "cell_type": "markdown",
   "id": "2f02d6a5",
   "metadata": {
    "pycharm": {
     "name": "#%% md\n"
    }
   },
   "source": [
    "### Goal Information"
   ]
  },
  {
   "cell_type": "code",
   "execution_count": null,
   "id": "51d54308",
   "metadata": {
    "pycharm": {
     "name": "#%%\n"
    }
   },
   "outputs": [],
   "source": [
    "goal = sample[2]\n",
    "print(f'x: {goal[0]:.2f}, y: {goal[1]:.2f}')"
   ]
  },
  {
   "cell_type": "code",
   "execution_count": null,
   "id": "d3f3279f",
   "metadata": {
    "pycharm": {
     "name": "#%%\n"
    }
   },
   "outputs": [],
   "source": []
  }
 ],
 "metadata": {
  "kernelspec": {
   "display_name": "Python 3 (ipykernel)",
   "language": "python",
   "name": "python3"
  },
  "language_info": {
   "codemirror_mode": {
    "name": "ipython",
    "version": 3
   },
   "file_extension": ".py",
   "mimetype": "text/x-python",
   "name": "python",
   "nbconvert_exporter": "python",
   "pygments_lexer": "ipython3",
   "version": "3.9.7"
  },
  "vscode": {
   "interpreter": {
    "hash": "613171611d47f8f4c09d76aaa81e89363543e75a87af2544fa7246cdcdc1c983"
   }
  }
 },
 "nbformat": 4,
 "nbformat_minor": 5
}
