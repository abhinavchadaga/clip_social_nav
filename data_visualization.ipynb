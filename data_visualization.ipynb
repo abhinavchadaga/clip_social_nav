{
 "cells": [
  {
   "cell_type": "code",
   "execution_count": 1,
   "id": "46b85f09",
   "metadata": {
    "pycharm": {
     "name": "#%%\n"
    }
   },
   "outputs": [],
   "source": [
    "from dataset import CLIPDataModule\n",
    "from termcolor import cprint\n",
    "import pandas as pd\n",
    "import time\n",
    "import psutil"
   ]
  },
  {
   "cell_type": "markdown",
   "id": "1fb0df9a",
   "metadata": {
    "pycharm": {
     "name": "#%% md\n"
    }
   },
   "source": [
    "### Create Dataloader Using All Processed Pickle Files\n",
    "batch size of 64 \\\n",
    "using the main process"
   ]
  },
  {
   "cell_type": "code",
   "execution_count": 2,
   "id": "2c665bee",
   "metadata": {
    "pycharm": {
     "name": "#%%\n"
    }
   },
   "outputs": [
    {
     "name": "stdout",
     "output_type": "stream",
     "text": [
      "available workers:  8\n"
     ]
    }
   ],
   "source": [
    "print('available workers: ', psutil.cpu_count())"
   ]
  },
  {
   "cell_type": "code",
   "execution_count": 3,
   "id": "8b55f9e6",
   "metadata": {
    "pycharm": {
     "is_executing": true,
     "name": "#%%\n"
    }
   },
   "outputs": [
    {
     "name": "stderr",
     "output_type": "stream",
     "text": [
      "\r",
      "  0%|                                                                                                                                                     | 0/2 [00:00<?, ?it/s]"
     ]
    },
    {
     "name": "stdout",
     "output_type": "stream",
     "text": [
      "Pickle file exists. Loading from pickle file\u001B[0m\n"
     ]
    },
    {
     "name": "stderr",
     "output_type": "stream",
     "text": [
      "\r",
      " 50%|██████████████████████████████████████████████████████████████████████▌                                                                      | 1/2 [00:01<00:01,  1.43s/it]"
     ]
    },
    {
     "name": "stdout",
     "output_type": "stream",
     "text": [
      "\u001B[1m\u001B[33mDelay frame is : 30\u001B[0m\n",
      "Pickle file exists. Loading from pickle file\u001B[0m\n"
     ]
    },
    {
     "name": "stderr",
     "output_type": "stream",
     "text": [
      "100%|█████████████████████████████████████████████████████████████████████████████████████████████████████████████████████████████████████████████| 2/2 [00:03<00:00,  1.65s/it]"
     ]
    },
    {
     "name": "stdout",
     "output_type": "stream",
     "text": [
      "\u001B[1m\u001B[33mDelay frame is : 30\u001B[0m\n"
     ]
    },
    {
     "name": "stderr",
     "output_type": "stream",
     "text": [
      "\n"
     ]
    }
   ],
   "source": [
    "dm = CLIPDataModule(\n",
    "    data_dir='./data/',\n",
    "    batch_size=64,\n",
    "    num_workers=2,\n",
    "    joy_pred_len=300,\n",
    "    include_lidar_file_names=True\n",
    ")\n",
    "\n",
    "dm.setup()"
   ]
  },
  {
   "cell_type": "markdown",
   "id": "e515b8c3",
   "metadata": {
    "pycharm": {
     "name": "#%% md\n"
    }
   },
   "source": [
    "### Dataset"
   ]
  },
  {
   "cell_type": "code",
   "execution_count": 5,
   "id": "6eb7dfcc",
   "metadata": {
    "pycharm": {
     "is_executing": true,
     "name": "#%%\n"
    }
   },
   "outputs": [
    {
     "name": "stdout",
     "output_type": "stream",
     "text": [
      "\u001B[1m\u001B[32mnumber of samples: 4535\u001B[0m\n"
     ]
    }
   ],
   "source": [
    "cprint(f\"number of samples: {len(dm.dataset)}\", 'green', attrs=['bold'])"
   ]
  },
  {
   "cell_type": "markdown",
   "id": "8f4dfaa4",
   "metadata": {
    "pycharm": {
     "name": "#%% md\n"
    }
   },
   "source": [
    "### Test Trainloader Iteration\n",
    "\n",
    "<b>NOTE</b>: lidar batch data is returned as a tuple (lidar_stack, file_names) where file names is used for visualization/debug purposes\n",
    "\n",
    "<b>Shape Information</b>: \\\n",
    "lidar_stack_batch.shape = batch size, 5 (channels), img height, img width \\\n",
    "joystick_batch.shape = batch size, 300 (future cutoff), 3 (lin_x, lin_y, ang_z)"
   ]
  },
  {
   "cell_type": "code",
   "execution_count": null,
   "outputs": [],
   "source": [
    "# turn train_dataloader into iterable\n",
    "trainloader = dm.train_dataloader()\n",
    "train_iter = iter(trainloader)"
   ],
   "metadata": {
    "collapsed": false,
    "pycharm": {
     "name": "#%%\n"
    }
   }
  },
  {
   "cell_type": "code",
   "execution_count": null,
   "outputs": [],
   "source": [
    "%%time\n",
    "for i, batch in enumerate(trainloader):\n",
    "    lidar, joystick = batch[0], batch[1]\n",
    "    lidar_stack = lidar[0]\n",
    "    lidar_fnames = lidar[1]\n",
    "    if i == 1:\n",
    "        print('lidar img batch shape: ', lidar_stack.shape)\n",
    "        print('lidar file names batch shape: ', lidar_fnames.shape)\n",
    "        print('joystick batch shape: ', joystick.shape)\n",
    "\n",
    "cprint(f'successfully retrieved all batches !!!', color='green', attrs=['bold'])"
   ],
   "metadata": {
    "collapsed": false,
    "pycharm": {
     "name": "#%%\n"
    }
   }
  },
  {
   "cell_type": "markdown",
   "source": [
    "### Select a Random Sample from the Entire Dataset to Visualize"
   ],
   "metadata": {
    "collapsed": false,
    "pycharm": {
     "name": "#%% md\n"
    }
   }
  },
  {
   "cell_type": "code",
   "execution_count": null,
   "outputs": [],
   "source": [
    "import random\n",
    "\n",
    "idx = random.randint(0, len(dm.dataset))\n",
    "\n",
    "# get random sample\n",
    "sample = dm.dataset[idx]"
   ],
   "metadata": {
    "collapsed": false,
    "pycharm": {
     "name": "#%%\n"
    }
   }
  },
  {
   "cell_type": "markdown",
   "source": [
    "### Visualize Lidar Stack\n",
    "\n",
    "Display 5 images from the randomly selected sample lidar stack"
   ],
   "metadata": {
    "collapsed": false,
    "pycharm": {
     "name": "#%% md\n"
    }
   }
  },
  {
   "cell_type": "code",
   "execution_count": null,
   "outputs": [],
   "source": [
    "from lidar_helper import visualize_lidar_stack\n",
    "\n",
    "# visualize mode returns lidar stack\n",
    "# and the corresponding file names\n",
    "lidar_stack = sample[0][0]\n",
    "lidar_fnames = sample[0][1]\n",
    "\n",
    "cprint(f'index: {idx}', color='green', attrs=['bold'])\n",
    "visualize_lidar_stack(lidar_stack=lidar_stack, file_names=lidar_fnames)"
   ],
   "metadata": {
    "collapsed": false,
    "pycharm": {
     "name": "#%%\n"
    }
   }
  },
  {
   "cell_type": "markdown",
   "source": [
    "### Visualize Future Joystick in Table View"
   ],
   "metadata": {
    "collapsed": false,
    "pycharm": {
     "name": "#%% md\n"
    }
   }
  },
  {
   "cell_type": "code",
   "execution_count": null,
   "outputs": [],
   "source": [
    "joystick = sample[1]\n",
    "print('joystick shape: ', joystick.shape)\n",
    "\n",
    "joy_df = pd.DataFrame(data=joystick, columns=['linear_x', 'linear_y', 'angular_z'])\n",
    "joy_df"
   ],
   "metadata": {
    "collapsed": false,
    "pycharm": {
     "name": "#%%\n"
    }
   }
  },
  {
   "cell_type": "code",
   "execution_count": 8,
   "id": "d9c70d42",
   "metadata": {
    "pycharm": {
     "is_executing": true,
     "name": "#%%\n"
    }
   },
   "outputs": [
    {
     "data": {
      "text/html": [
       "<div>\n",
       "<style scoped>\n",
       "    .dataframe tbody tr th:only-of-type {\n",
       "        vertical-align: middle;\n",
       "    }\n",
       "\n",
       "    .dataframe tbody tr th {\n",
       "        vertical-align: top;\n",
       "    }\n",
       "\n",
       "    .dataframe thead th {\n",
       "        text-align: right;\n",
       "    }\n",
       "</style>\n",
       "<table border=\"1\" class=\"dataframe\">\n",
       "  <thead>\n",
       "    <tr style=\"text-align: right;\">\n",
       "      <th></th>\n",
       "      <th>linear_x</th>\n",
       "      <th>linear_y</th>\n",
       "      <th>angular_z</th>\n",
       "    </tr>\n",
       "  </thead>\n",
       "  <tbody>\n",
       "    <tr>\n",
       "      <th>0</th>\n",
       "      <td>1.6</td>\n",
       "      <td>-0.083492</td>\n",
       "      <td>-0.211073</td>\n",
       "    </tr>\n",
       "    <tr>\n",
       "      <th>1</th>\n",
       "      <td>1.6</td>\n",
       "      <td>-0.083492</td>\n",
       "      <td>-0.211073</td>\n",
       "    </tr>\n",
       "    <tr>\n",
       "      <th>2</th>\n",
       "      <td>1.6</td>\n",
       "      <td>-0.083492</td>\n",
       "      <td>-0.211073</td>\n",
       "    </tr>\n",
       "    <tr>\n",
       "      <th>3</th>\n",
       "      <td>1.6</td>\n",
       "      <td>-0.083492</td>\n",
       "      <td>-0.211073</td>\n",
       "    </tr>\n",
       "    <tr>\n",
       "      <th>4</th>\n",
       "      <td>1.6</td>\n",
       "      <td>-0.083492</td>\n",
       "      <td>-0.211073</td>\n",
       "    </tr>\n",
       "    <tr>\n",
       "      <th>...</th>\n",
       "      <td>...</td>\n",
       "      <td>...</td>\n",
       "      <td>...</td>\n",
       "    </tr>\n",
       "    <tr>\n",
       "      <th>295</th>\n",
       "      <td>1.6</td>\n",
       "      <td>-0.083492</td>\n",
       "      <td>-0.000000</td>\n",
       "    </tr>\n",
       "    <tr>\n",
       "      <th>296</th>\n",
       "      <td>1.6</td>\n",
       "      <td>-0.083492</td>\n",
       "      <td>-0.000000</td>\n",
       "    </tr>\n",
       "    <tr>\n",
       "      <th>297</th>\n",
       "      <td>1.6</td>\n",
       "      <td>-0.083492</td>\n",
       "      <td>-0.000000</td>\n",
       "    </tr>\n",
       "    <tr>\n",
       "      <th>298</th>\n",
       "      <td>1.6</td>\n",
       "      <td>-0.083492</td>\n",
       "      <td>-0.000000</td>\n",
       "    </tr>\n",
       "    <tr>\n",
       "      <th>299</th>\n",
       "      <td>1.6</td>\n",
       "      <td>-0.083492</td>\n",
       "      <td>-0.000000</td>\n",
       "    </tr>\n",
       "  </tbody>\n",
       "</table>\n",
       "<p>300 rows × 3 columns</p>\n",
       "</div>"
      ],
      "text/plain": [
       "     linear_x  linear_y  angular_z\n",
       "0         1.6 -0.083492  -0.211073\n",
       "1         1.6 -0.083492  -0.211073\n",
       "2         1.6 -0.083492  -0.211073\n",
       "3         1.6 -0.083492  -0.211073\n",
       "4         1.6 -0.083492  -0.211073\n",
       "..        ...       ...        ...\n",
       "295       1.6 -0.083492  -0.000000\n",
       "296       1.6 -0.083492  -0.000000\n",
       "297       1.6 -0.083492  -0.000000\n",
       "298       1.6 -0.083492  -0.000000\n",
       "299       1.6 -0.083492  -0.000000\n",
       "\n",
       "[300 rows x 3 columns]"
      ]
     },
     "execution_count": 8,
     "metadata": {},
     "output_type": "execute_result"
    }
   ],
   "source": [
    "joystick = sample[1]\n",
    "print('joystick shape: ', joystick.shape)\n",
    "\n",
    "joy_df = pd.DataFrame(data=joystick, columns=['linear_x', 'linear_y', 'angular_z'])\n",
    "joy_df"
   ]
  },
  {
   "cell_type": "markdown",
   "id": "56dda20d",
   "metadata": {
    "pycharm": {
     "name": "#%% md\n"
    }
   },
   "source": [
    "### Display Some Joystick Stats"
   ]
  },
  {
   "cell_type": "code",
   "execution_count": 9,
   "id": "4af72985",
   "metadata": {
    "pycharm": {
     "is_executing": true,
     "name": "#%%\n"
    }
   },
   "outputs": [],
   "source": [
    "linear_x_max = joy_df['linear_x'].max()\n",
    "linear_x_min = joy_df['linear_y'].min()\n",
    "linear_x_avg = joy_df['linear_x'].mean()\n",
    "\n",
    "linear_y_max = joy_df['linear_y'].max()\n",
    "linear_y_min = joy_df['linear_y'].min()\n",
    "linear_y_avg = joy_df['linear_y'].mean()\n",
    "\n",
    "angular_z_max = joy_df['angular_z'].max()\n",
    "angular_z_min = joy_df['angular_z'].min()\n",
    "angular_z_avg = joy_df['angular_z'].mean()"
   ]
  },
  {
   "cell_type": "code",
   "execution_count": 10,
   "id": "e95a9736",
   "metadata": {
    "pycharm": {
     "is_executing": true,
     "name": "#%%\n"
    }
   },
   "outputs": [
    {
     "data": {
      "text/html": [
       "<div>\n",
       "<style scoped>\n",
       "    .dataframe tbody tr th:only-of-type {\n",
       "        vertical-align: middle;\n",
       "    }\n",
       "\n",
       "    .dataframe tbody tr th {\n",
       "        vertical-align: top;\n",
       "    }\n",
       "\n",
       "    .dataframe thead th {\n",
       "        text-align: right;\n",
       "    }\n",
       "</style>\n",
       "<table border=\"1\" class=\"dataframe\">\n",
       "  <thead>\n",
       "    <tr style=\"text-align: right;\">\n",
       "      <th></th>\n",
       "      <th>linear_x</th>\n",
       "      <th>linear_y</th>\n",
       "      <th>angular_z</th>\n",
       "    </tr>\n",
       "  </thead>\n",
       "  <tbody>\n",
       "    <tr>\n",
       "      <th>max</th>\n",
       "      <td>1.600000</td>\n",
       "      <td>-0.083492</td>\n",
       "      <td>-0.000000</td>\n",
       "    </tr>\n",
       "    <tr>\n",
       "      <th>min</th>\n",
       "      <td>-0.083492</td>\n",
       "      <td>-0.083492</td>\n",
       "      <td>-0.211073</td>\n",
       "    </tr>\n",
       "    <tr>\n",
       "      <th>avg</th>\n",
       "      <td>1.600000</td>\n",
       "      <td>-0.083492</td>\n",
       "      <td>-0.026281</td>\n",
       "    </tr>\n",
       "  </tbody>\n",
       "</table>\n",
       "</div>"
      ],
      "text/plain": [
       "     linear_x  linear_y  angular_z\n",
       "max  1.600000 -0.083492  -0.000000\n",
       "min -0.083492 -0.083492  -0.211073\n",
       "avg  1.600000 -0.083492  -0.026281"
      ]
     },
     "execution_count": 10,
     "metadata": {},
     "output_type": "execute_result"
    }
   ],
   "source": [
    "joy_stats = {\"linear_x\": [linear_x_max, linear_x_min, linear_x_avg], \"linear_y\": [\n",
    "    linear_y_max, linear_y_min, linear_y_avg], \"angular_z\": [angular_z_max, angular_z_min, angular_z_avg]}\n",
    "\n",
    "joy_stats_df = pd.DataFrame(data=joy_stats, columns=[\n",
    "                            'linear_x', 'linear_y', 'angular_z'], index=['max', 'min', 'avg'])\n",
    "\n",
    "joy_stats_df\n"
   ]
  }
 ],
 "metadata": {
  "kernelspec": {
   "display_name": "Python 3 (ipykernel)",
   "language": "python",
   "name": "python3"
  },
  "language_info": {
   "codemirror_mode": {
    "name": "ipython",
    "version": 3
   },
   "file_extension": ".py",
   "mimetype": "text/x-python",
   "name": "python",
   "nbconvert_exporter": "python",
   "pygments_lexer": "ipython3",
   "version": "3.9.13"
  },
  "vscode": {
   "interpreter": {
    "hash": "e2c86d3f01e403b9f22e01d3bbb387c16c7a05213d5936f651663b01b59ce1d3"
   }
  }
 },
 "nbformat": 4,
 "nbformat_minor": 5
}