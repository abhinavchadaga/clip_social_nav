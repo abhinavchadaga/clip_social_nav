{
 "cells": [
  {
   "cell_type": "code",
   "execution_count": 1,
   "id": "46b85f09",
   "metadata": {
    "pycharm": {
     "name": "#%%\n"
    }
   },
   "outputs": [],
   "source": [
    "from dataset import CLIPDataModule\n",
    "from termcolor import cprint\n",
    "import pandas as pd\n",
    "import time\n",
    "import psutil"
   ]
  },
  {
   "cell_type": "markdown",
   "id": "1fb0df9a",
   "metadata": {
    "pycharm": {
     "name": "#%% md\n"
    }
   },
   "source": [
    "### Create Dataloader Using All Processed Pickle Files\n",
    "batch size of 64 \\\n",
    "using the main process"
   ]
  },
  {
   "cell_type": "code",
   "execution_count": 2,
   "id": "2c665bee",
   "metadata": {
    "pycharm": {
     "name": "#%%\n"
    }
   },
   "outputs": [
    {
     "name": "stdout",
     "output_type": "stream",
     "text": [
      "available workers:  8\n"
     ]
    }
   ],
   "source": [
    "print('available workers: ', psutil.cpu_count())"
   ]
  },
  {
   "cell_type": "code",
   "execution_count": 3,
   "id": "8b55f9e6",
   "metadata": {
    "pycharm": {
     "is_executing": true,
     "name": "#%%\n"
    }
   },
   "outputs": [
    {
     "name": "stderr",
     "output_type": "stream",
     "text": [
      "\r",
      "  0%|                                                                                                                                                 | 0/2 [00:00<?, ?it/s]"
     ]
    },
    {
     "name": "stdout",
     "output_type": "stream",
     "text": [
      "Pickle file exists. Loading from pickle file\u001B[0m\n"
     ]
    },
    {
     "name": "stderr",
     "output_type": "stream",
     "text": [
      "\r",
      " 50%|████████████████████████████████████████████████████████████████████▌                                                                    | 1/2 [00:01<00:01,  1.30s/it]"
     ]
    },
    {
     "name": "stdout",
     "output_type": "stream",
     "text": [
      "\u001B[1m\u001B[33mDelay frame is : 30\u001B[0m\n",
      "Pickle file exists. Loading from pickle file\u001B[0m\n"
     ]
    },
    {
     "name": "stderr",
     "output_type": "stream",
     "text": [
      "100%|█████████████████████████████████████████████████████████████████████████████████████████████████████████████████████████████████████████| 2/2 [00:02<00:00,  1.13s/it]"
     ]
    },
    {
     "name": "stdout",
     "output_type": "stream",
     "text": [
      "\u001B[1m\u001B[33mDelay frame is : 30\u001B[0m\n"
     ]
    },
    {
     "name": "stderr",
     "output_type": "stream",
     "text": [
      "\n"
     ]
    }
   ],
   "source": [
    "dm = CLIPDataModule(\n",
    "    data_dir='./data/',\n",
    "    batch_size=64,\n",
    "    num_workers=2,\n",
    "    joy_pred_len=300,\n",
    "    include_lidar_file_names=True\n",
    ")\n",
    "\n",
    "dm.setup()"
   ]
  },
  {
   "cell_type": "markdown",
   "id": "e515b8c3",
   "metadata": {
    "pycharm": {
     "name": "#%% md\n"
    }
   },
   "source": [
    "### Dataset"
   ]
  },
  {
   "cell_type": "code",
   "execution_count": 4,
   "id": "6eb7dfcc",
   "metadata": {
    "pycharm": {
     "is_executing": true,
     "name": "#%%\n"
    }
   },
   "outputs": [
    {
     "name": "stdout",
     "output_type": "stream",
     "text": [
      "\u001B[1m\u001B[32mnumber of samples: 4535\u001B[0m\n"
     ]
    }
   ],
   "source": [
    "cprint(f\"number of samples: {len(dm.dataset)}\", 'green', attrs=['bold'])"
   ]
  },
  {
   "cell_type": "markdown",
   "id": "8f4dfaa4",
   "metadata": {
    "pycharm": {
     "name": "#%% md\n"
    }
   },
   "source": [
    "### Test Trainloader Iteration\n",
    "\n",
    "<b>NOTE</b>: lidar batch data is returned as a tuple (lidar_stack, file_names) where file names is used for visualization/debug purposes\n",
    "\n",
    "<b>Shape Information</b>: \\\n",
    "lidar_stack_batch.shape = batch size, 5 (channels), img height, img width \\\n",
    "joystick_batch.shape = batch size, 300 (future cutoff), 3 (lin_x, lin_y, ang_z)"
   ]
  },
  {
   "cell_type": "code",
   "execution_count": null,
   "id": "258dd2d8",
   "metadata": {
    "pycharm": {
     "name": "#%%\n"
    }
   },
   "outputs": [],
   "source": [
    "# turn train_dataloader into iterable\n",
    "trainloader = dm.train_dataloader()\n",
    "train_iter = iter(trainloader)"
   ]
  },
  {
   "cell_type": "code",
   "execution_count": null,
   "id": "237b2470",
   "metadata": {
    "pycharm": {
     "name": "#%%\n"
    }
   },
   "outputs": [],
   "source": [
    "%%time\n",
    "for i, batch in enumerate(trainloader):\n",
    "    lidar, joystick = batch[0], batch[1]\n",
    "    lidar_stack = lidar[0]\n",
    "    lidar_fnames = lidar[1]\n",
    "    if i == 1:\n",
    "        print('lidar img batch shape: ', lidar_stack.shape)\n",
    "        print('lidar file names batch shape: ', lidar_fnames.shape)\n",
    "        print('joystick batch shape: ', joystick.shape)\n",
    "\n",
    "cprint(f'successfully retrieved all batches !!!', color='green', attrs=['bold'])"
   ]
  },
  {
   "cell_type": "markdown",
   "id": "c08d434b",
   "metadata": {
    "pycharm": {
     "name": "#%% md\n"
    }
   },
   "source": [
    "### Select a Random Sample from the Entire Dataset to Visualize"
   ]
  },
  {
   "cell_type": "code",
   "execution_count": null,
   "id": "59d8b8de",
   "metadata": {
    "pycharm": {
     "name": "#%%\n"
    }
   },
   "outputs": [],
   "source": [
    "import random\n",
    "\n",
    "idx = random.randint(0, len(dm.dataset))\n",
    "\n",
    "# get random sample\n",
    "sample = dm.dataset[idx]"
   ]
  },
  {
   "cell_type": "markdown",
   "id": "ac07f87d",
   "metadata": {
    "pycharm": {
     "name": "#%% md\n"
    }
   },
   "source": [
    "### Visualize Lidar Stack\n",
    "\n",
    "Display 5 images from the randomly selected sample lidar stack"
   ]
  },
  {
   "cell_type": "code",
   "execution_count": null,
   "id": "d73ad4c3",
   "metadata": {
    "pycharm": {
     "name": "#%%\n"
    }
   },
   "outputs": [],
   "source": [
    "from lidar_helper import visualize_lidar_stack\n",
    "\n",
    "# visualize mode returns lidar stack\n",
    "# and the corresponding file names\n",
    "lidar_stack = sample[0][0]\n",
    "lidar_fnames = sample[0][1]\n",
    "\n",
    "cprint(f'index: {idx}', color='green', attrs=['bold'])\n",
    "visualize_lidar_stack(lidar_stack=lidar_stack, file_names=lidar_fnames)"
   ]
  },
  {
   "cell_type": "markdown",
   "id": "613dbc05",
   "metadata": {
    "pycharm": {
     "name": "#%% md\n"
    }
   },
   "source": [
    "### Visualize Future Joystick in Table View"
   ]
  },
  {
   "cell_type": "code",
   "execution_count": null,
   "id": "2209192f",
   "metadata": {
    "pycharm": {
     "name": "#%%\n"
    }
   },
   "outputs": [],
   "source": [
    "joystick = sample[1]\n",
    "print('joystick dtype: ', joystick.dtype)\n",
    "print('joystick shape: ', joystick.shape)\n",
    "\n",
    "joy_df = pd.DataFrame(data=joystick, columns=['linear_x', 'linear_y', 'angular_z'])\n",
    "joy_df"
   ]
  },
  {
   "cell_type": "code",
   "execution_count": null,
   "id": "d9c70d42",
   "metadata": {
    "pycharm": {
     "is_executing": true,
     "name": "#%%\n"
    }
   },
   "outputs": [],
   "source": [
    "joystick = sample[1]\n",
    "print('joystick shape: ', joystick.shape)\n",
    "\n",
    "joy_df = pd.DataFrame(data=joystick, columns=['linear_x', 'linear_y', 'angular_z'])\n",
    "joy_df"
   ]
  },
  {
   "cell_type": "markdown",
   "id": "56dda20d",
   "metadata": {
    "pycharm": {
     "name": "#%% md\n"
    }
   },
   "source": [
    "### Display Some Joystick Stats"
   ]
  },
  {
   "cell_type": "code",
   "execution_count": null,
   "id": "4af72985",
   "metadata": {
    "pycharm": {
     "is_executing": true,
     "name": "#%%\n"
    }
   },
   "outputs": [],
   "source": [
    "linear_x_max = joy_df['linear_x'].max()\n",
    "linear_x_min = joy_df['linear_y'].min()\n",
    "linear_x_avg = joy_df['linear_x'].mean()\n",
    "\n",
    "linear_y_max = joy_df['linear_y'].max()\n",
    "linear_y_min = joy_df['linear_y'].min()\n",
    "linear_y_avg = joy_df['linear_y'].mean()\n",
    "\n",
    "angular_z_max = joy_df['angular_z'].max()\n",
    "angular_z_min = joy_df['angular_z'].min()\n",
    "angular_z_avg = joy_df['angular_z'].mean()"
   ]
  },
  {
   "cell_type": "code",
   "execution_count": null,
   "id": "e95a9736",
   "metadata": {
    "pycharm": {
     "is_executing": true,
     "name": "#%%\n"
    }
   },
   "outputs": [],
   "source": [
    "joy_stats = {\"linear_x\": [linear_x_max, linear_x_min, linear_x_avg], \"linear_y\": [\n",
    "    linear_y_max, linear_y_min, linear_y_avg], \"angular_z\": [angular_z_max, angular_z_min, angular_z_avg]}\n",
    "\n",
    "joy_stats_df = pd.DataFrame(data=joy_stats, columns=[\n",
    "                            'linear_x', 'linear_y', 'angular_z'], index=['max', 'min', 'avg'])\n",
    "\n",
    "joy_stats_df\n"
   ]
  }
 ],
 "metadata": {
  "kernelspec": {
   "display_name": "Python 3 (ipykernel)",
   "language": "python",
   "name": "python3"
  },
  "language_info": {
   "codemirror_mode": {
    "name": "ipython",
    "version": 3
   },
   "file_extension": ".py",
   "mimetype": "text/x-python",
   "name": "python",
   "nbconvert_exporter": "python",
   "pygments_lexer": "ipython3",
   "version": "3.9.13"
  },
  "vscode": {
   "interpreter": {
    "hash": "e2c86d3f01e403b9f22e01d3bbb387c16c7a05213d5936f651663b01b59ce1d3"
   }
  }
 },
 "nbformat": 4,
 "nbformat_minor": 5
}