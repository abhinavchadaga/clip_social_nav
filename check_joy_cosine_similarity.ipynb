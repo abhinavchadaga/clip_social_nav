{
 "cells": [
  {
   "cell_type": "markdown",
   "metadata": {},
   "source": [
    "## Calculate the similarity of joystick samples in a batch\n",
    "For contrastive learning, we need the joystick samples in a batch to be diverse, otherwise the \\\n",
    "model will not be able to learn"
   ]
  },
  {
   "cell_type": "code",
   "execution_count": null,
   "metadata": {},
   "outputs": [],
   "source": [
    "import torch\n",
    "import pandas as pd\n",
    "from dataset import CLIPDataModule\n",
    "from IPython.display import display"
   ]
  },
  {
   "cell_type": "code",
   "execution_count": null,
   "metadata": {},
   "outputs": [],
   "source": [
    "BATCH_SIZE = 128\n",
    "NUM_TRIALS = 10"
   ]
  },
  {
   "cell_type": "markdown",
   "metadata": {},
   "source": [
    "### CLIPDataModule with Weighted Sampling"
   ]
  },
  {
   "cell_type": "code",
   "execution_count": null,
   "metadata": {},
   "outputs": [],
   "source": [
    "dm = CLIPDataModule(data_path='data',\n",
    "                    batch_size=BATCH_SIZE,\n",
    "                    num_workers=10,\n",
    "                    use_weighted_sampling=True)\n",
    "\n",
    "dm.setup()\n"
   ]
  },
  {
   "cell_type": "markdown",
   "metadata": {},
   "source": [
    "## Function to calculate batch similarity\n",
    "Calcuate the norm of the vector between every pair of joystick vectors"
   ]
  },
  {
   "cell_type": "code",
   "execution_count": null,
   "metadata": {},
   "outputs": [],
   "source": [
    "def get_batch_similarity(joystick_batch: torch.Tensor) -> float:\n",
    "    m = torch.empty((joystick_batch.shape[0], joystick_batch.shape[0]))\n",
    "    joystick_batch = joystick_batch.flatten(1)\n",
    "    for x in range(m.shape[0]):\n",
    "        x_1 = joystick_batch[x, :]\n",
    "        for y in range(m.shape[0]):\n",
    "            x_2 = joystick_batch[y, :]\n",
    "            m[x, y] = torch.linalg.norm(x_2 - x_1)\n",
    "    similarity = torch.sum(m).item() / m.shape[0] ** 2\n",
    "    return similarity\n"
   ]
  },
  {
   "cell_type": "markdown",
   "metadata": {},
   "source": [
    "Calculate Average Similarity"
   ]
  },
  {
   "cell_type": "code",
   "execution_count": null,
   "metadata": {},
   "outputs": [],
   "source": [
    "similarities = []\n",
    "for i, batch in enumerate(dm.train_dataloader()):\n",
    "    s = get_batch_similarity(batch[1])\n",
    "    similarities.append(s)\n",
    "df = pd.DataFrame(data=similarities, columns=['batch similarity'])\n",
    "display(df)\n",
    "print(f\"average batch similarity: {df['batch similarity'].mean():.2f}\")\n",
    "\n"
   ]
  },
  {
   "cell_type": "markdown",
   "metadata": {},
   "source": [
    "## DataModule without Weighted Sampling"
   ]
  },
  {
   "cell_type": "code",
   "execution_count": null,
   "metadata": {},
   "outputs": [],
   "source": [
    "dm_ns = CLIPDataModule(data_path='data_bak',\n",
    "                       batch_size=BATCH_SIZE,\n",
    "                       num_workers=4,\n",
    "                       use_weighted_sampling=False)\n",
    "\n",
    "dm_ns.setup()\n"
   ]
  },
  {
   "cell_type": "code",
   "execution_count": null,
   "metadata": {},
   "outputs": [],
   "source": [
    "similarities = []\n",
    "for i, batch in enumerate(dm_ns.train_dataloader()):\n",
    "    s = get_batch_similarity(batch[1])\n",
    "    similarities.append(s)\n",
    "df = pd.DataFrame(data=similarities, columns=['batch similarity'])\n",
    "display(df)\n",
    "print(f\"average batch similarity: {df['batch similarity'].mean():.2f}\")"
   ]
  }
 ],
 "metadata": {
  "kernelspec": {
   "display_name": "Python 3.8.10 ('.venv': venv)",
   "language": "python",
   "name": "python3"
  },
  "language_info": {
   "codemirror_mode": {
    "name": "ipython",
    "version": 3
   },
   "file_extension": ".py",
   "mimetype": "text/x-python",
   "name": "python",
   "nbconvert_exporter": "python",
   "pygments_lexer": "ipython3",
   "version": "3.9.13"
  },
  "orig_nbformat": 4,
  "vscode": {
   "interpreter": {
    "hash": "55b2c407edfc4dd78ab1dea77a3a47516b8202be25920d05030a66eb501c0c7a"
   }
  }
 },
 "nbformat": 4,
 "nbformat_minor": 2
}
